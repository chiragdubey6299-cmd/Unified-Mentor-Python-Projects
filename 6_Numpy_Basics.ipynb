{
  "nbformat": 4,
  "nbformat_minor": 0,
  "metadata": {
    "colab": {
      "provenance": [],
      "include_colab_link": true
    },
    "kernelspec": {
      "name": "python3",
      "display_name": "Python 3"
    },
    "language_info": {
      "name": "python"
    }
  },
  "cells": [
    {
      "cell_type": "markdown",
      "metadata": {
        "id": "view-in-github",
        "colab_type": "text"
      },
      "source": [
        "<a href=\"https://colab.research.google.com/github/chiragdubey6299-cmd/Unified-Mentor-Python-Projects/blob/main/6_Numpy_Basics.ipynb\" target=\"_parent\"><img src=\"https://colab.research.google.com/assets/colab-badge.svg\" alt=\"Open In Colab\"/></a>"
      ]
    },
    {
      "cell_type": "markdown",
      "source": [
        "# Numpy Array Dimensions\n",
        "\n",
        "1D Array\n",
        "\n",
        "2D Array\n",
        "\n",
        "3D Array"
      ],
      "metadata": {
        "id": "QdotJTdfDIG0"
      }
    },
    {
      "cell_type": "code",
      "source": [
        "import numpy as np     # importing numpy library"
      ],
      "metadata": {
        "id": "P2t3s34aC8zd"
      },
      "execution_count": 69,
      "outputs": []
    },
    {
      "cell_type": "code",
      "source": [
        "A = np.array(5)        # Scalar Array\n",
        "A"
      ],
      "metadata": {
        "id": "duYpdIjTC81i",
        "colab": {
          "base_uri": "https://localhost:8080/"
        },
        "outputId": "cadd4dc0-2107-416e-cf00-05b6d5beafb6"
      },
      "execution_count": 70,
      "outputs": [
        {
          "output_type": "execute_result",
          "data": {
            "text/plain": [
              "array(5)"
            ]
          },
          "metadata": {},
          "execution_count": 70
        }
      ]
    },
    {
      "cell_type": "code",
      "source": [
        "np.ndim(A)               # Dimension method"
      ],
      "metadata": {
        "id": "kH5n4yfUC83W",
        "colab": {
          "base_uri": "https://localhost:8080/"
        },
        "outputId": "bb02b32b-c9bc-489e-eab5-9557d3e695ba"
      },
      "execution_count": 71,
      "outputs": [
        {
          "output_type": "execute_result",
          "data": {
            "text/plain": [
              "0"
            ]
          },
          "metadata": {},
          "execution_count": 71
        }
      ]
    },
    {
      "cell_type": "code",
      "source": [
        "One = np.array([1, 2, 3, 4, 5])\n",
        "Two = np.array([[1, 2, 3], [4, 5, 6]])\n",
        "Three = np.array([[[1, 2, 3], [4, 5, 6]],\n",
        "                 [[7, 8, 9], [10, 11, 12]]])"
      ],
      "metadata": {
        "id": "NUIfRVB_C86s"
      },
      "execution_count": 72,
      "outputs": []
    },
    {
      "cell_type": "code",
      "source": [
        "Three"
      ],
      "metadata": {
        "id": "LLRl5-qMdOTG",
        "colab": {
          "base_uri": "https://localhost:8080/"
        },
        "outputId": "8ac0a9e2-e2a3-4ce8-e6fd-b2c882ac3b4f"
      },
      "execution_count": 73,
      "outputs": [
        {
          "output_type": "execute_result",
          "data": {
            "text/plain": [
              "array([[[ 1,  2,  3],\n",
              "        [ 4,  5,  6]],\n",
              "\n",
              "       [[ 7,  8,  9],\n",
              "        [10, 11, 12]]])"
            ]
          },
          "metadata": {},
          "execution_count": 73
        }
      ]
    },
    {
      "cell_type": "code",
      "source": [
        "Three.shape\n",
        "np.ndim(Three)"
      ],
      "metadata": {
        "id": "UfLxRm6mWMpl",
        "colab": {
          "base_uri": "https://localhost:8080/"
        },
        "outputId": "b817f7cf-c9f7-4994-e11f-c9c71418ac26"
      },
      "execution_count": 74,
      "outputs": [
        {
          "output_type": "execute_result",
          "data": {
            "text/plain": [
              "3"
            ]
          },
          "metadata": {},
          "execution_count": 74
        }
      ]
    },
    {
      "cell_type": "code",
      "source": [
        "np.ndim(One)\n",
        "np.ndim(Two)\n",
        "np.ndim(Three)"
      ],
      "metadata": {
        "id": "b__zQgAvC88z",
        "colab": {
          "base_uri": "https://localhost:8080/"
        },
        "outputId": "4161ecb4-aa4f-4e08-9410-329be08605bf"
      },
      "execution_count": 75,
      "outputs": [
        {
          "output_type": "execute_result",
          "data": {
            "text/plain": [
              "3"
            ]
          },
          "metadata": {},
          "execution_count": 75
        }
      ]
    },
    {
      "cell_type": "code",
      "source": [
        "\n",
        "import numpy as np\n",
        "one = np.array([1, 2, 3, 4, 5, 6, 7, 8, 9, 10, 11, 12])\n",
        "two = np.array([\n",
        "    [1, 2, 3, 4],\n",
        "    [5, 6, 7, 8],\n",
        "    [9, 10, 11, 12]\n",
        "])"
      ],
      "metadata": {
        "id": "g4Iyxu54C8-q"
      },
      "execution_count": 76,
      "outputs": []
    },
    {
      "cell_type": "code",
      "source": [
        "\n",
        "Three = one.reshape(2, 2, 3)"
      ],
      "metadata": {
        "id": "FioPqlnI9NZi"
      },
      "execution_count": 77,
      "outputs": []
    },
    {
      "cell_type": "code",
      "source": [
        "\n",
        "np.ndim(one)\n",
        "np.ndim(two)\n",
        "np.ndim(Three)"
      ],
      "metadata": {
        "id": "MoBHvmZHC9CD",
        "colab": {
          "base_uri": "https://localhost:8080/"
        },
        "outputId": "22ad4775-3e66-42bf-e34c-26dd8d3db86b"
      },
      "execution_count": 78,
      "outputs": [
        {
          "output_type": "execute_result",
          "data": {
            "text/plain": [
              "3"
            ]
          },
          "metadata": {},
          "execution_count": 78
        }
      ]
    },
    {
      "cell_type": "markdown",
      "source": [
        "# List vs Numpy Array"
      ],
      "metadata": {
        "id": "GHBp5JWLHCQN"
      }
    },
    {
      "cell_type": "code",
      "source": [
        "list1 = [1,4.0,'apple']                     # List - Different Datatypes\n",
        "arr = np.array([1, 2, 3, 4, 5])             # Array - Similar Datatypes"
      ],
      "metadata": {
        "id": "av6OOp0MC9EL"
      },
      "execution_count": 79,
      "outputs": []
    },
    {
      "cell_type": "code",
      "source": [
        "arr"
      ],
      "metadata": {
        "id": "3KS2a04Tf9ZZ",
        "colab": {
          "base_uri": "https://localhost:8080/"
        },
        "outputId": "74cef911-689e-4177-ec80-b41a09b45753"
      },
      "execution_count": 80,
      "outputs": [
        {
          "output_type": "execute_result",
          "data": {
            "text/plain": [
              "array([1, 2, 3, 4, 5])"
            ]
          },
          "metadata": {},
          "execution_count": 80
        }
      ]
    },
    {
      "cell_type": "code",
      "source": [
        "arr = np.array([1, 2, 3.9, 'apple'])        # Type Conversion"
      ],
      "metadata": {
        "id": "yMGXeXRGHMaU"
      },
      "execution_count": 81,
      "outputs": []
    },
    {
      "cell_type": "code",
      "source": [
        "arr"
      ],
      "metadata": {
        "id": "UFqozM89XtBY",
        "colab": {
          "base_uri": "https://localhost:8080/"
        },
        "outputId": "9fc3cbce-58c2-48ec-aad0-011f7317c59c"
      },
      "execution_count": 82,
      "outputs": [
        {
          "output_type": "execute_result",
          "data": {
            "text/plain": [
              "array(['1', '2', '3.9', 'apple'], dtype='<U32')"
            ]
          },
          "metadata": {},
          "execution_count": 82
        }
      ]
    },
    {
      "cell_type": "code",
      "source": [
        "\n",
        "list1 = [1, 2, 3, 4, 5]\n",
        "arr = np.array([1, 2, 3, 4, 5])\n",
        "print(\"Array division result:\", arr/5)\n"
      ],
      "metadata": {
        "id": "0WNjsiw9HMdu",
        "colab": {
          "base_uri": "https://localhost:8080/"
        },
        "outputId": "c8333864-67f8-4e43-f5e1-01b27141ff7d"
      },
      "execution_count": 83,
      "outputs": [
        {
          "output_type": "stream",
          "name": "stdout",
          "text": [
            "Array division result: [0.2 0.4 0.6 0.8 1. ]\n"
          ]
        }
      ]
    },
    {
      "cell_type": "code",
      "source": [
        "\n",
        "print(Three.shape)\n",
        "print(Three.size)"
      ],
      "metadata": {
        "id": "mA36IcVhKX5N",
        "colab": {
          "base_uri": "https://localhost:8080/"
        },
        "outputId": "ff1e4c24-f317-4b27-ff46-658b04c29c13"
      },
      "execution_count": 84,
      "outputs": [
        {
          "output_type": "stream",
          "name": "stdout",
          "text": [
            "(2, 2, 3)\n",
            "12\n"
          ]
        }
      ]
    },
    {
      "cell_type": "markdown",
      "source": [
        "# More Advantages of Numpy Array over list\n",
        "\n",
        "*   Array consumes less memory\n",
        "*   Array are faster than lists\n",
        "\n"
      ],
      "metadata": {
        "id": "Aqu_C2A7J9lu"
      }
    },
    {
      "cell_type": "code",
      "source": [
        "\n",
        "import time\n",
        "import sys\n",
        "size = 1000000\n",
        "L = range(size)\n",
        "A = np.arange(size)\n",
        "start = time.time()\n",
        "result_list = [(x**2 + x * 2) for x in L]\n",
        "end = time.time()\n",
        "print(f\"Python List Time: {(end - start):.6f} seconds\")\n",
        "start = time.time()\n",
        "result_array = (A**2 + A * 2)\n",
        "end = time.time()\n",
        "print(f\"NumPy Array Time: {(end - start):.6f} seconds\")\n",
        "print(f\"\\nList memory: {sys.getsizeof(1) * size / 1024 / 1024:.2f} MB\")\n",
        "print(f\"NumPy Array memory: {A.itemsize * A.size / 1024 / 1024:.2f} MB\")"
      ],
      "metadata": {
        "id": "k0dl0ke-KWwi",
        "colab": {
          "base_uri": "https://localhost:8080/"
        },
        "outputId": "1bfd08d3-cb97-416a-cf70-842b4fb5994f"
      },
      "execution_count": 85,
      "outputs": [
        {
          "output_type": "stream",
          "name": "stdout",
          "text": [
            "Python List Time: 0.172212 seconds\n",
            "NumPy Array Time: 0.010608 seconds\n",
            "\n",
            "List memory: 26.70 MB\n",
            "NumPy Array memory: 7.63 MB\n"
          ]
        }
      ]
    },
    {
      "cell_type": "code",
      "source": [
        "\n",
        "arr = np.array([1, 2, 3, 4, 5, 6, 7, 8, 9, 10, 11, 12])\n",
        "print(\"Original Array:\", arr)\n",
        "print(\"Original Shape:\", arr.shape)"
      ],
      "metadata": {
        "id": "no42aAEFLkGO",
        "colab": {
          "base_uri": "https://localhost:8080/"
        },
        "outputId": "85365c63-d9d4-4fce-aa98-51f4aaebad4d"
      },
      "execution_count": 86,
      "outputs": [
        {
          "output_type": "stream",
          "name": "stdout",
          "text": [
            "Original Array: [ 1  2  3  4  5  6  7  8  9 10 11 12]\n",
            "Original Shape: (12,)\n"
          ]
        }
      ]
    },
    {
      "cell_type": "code",
      "source": [
        "\n",
        "arr_2d = arr.reshape(4, 3)\n",
        "print(\"2D Reshaped Array:\")\n",
        "print(arr_2d)\n",
        "print(\"New Shape:\", arr_2d.shape)"
      ],
      "metadata": {
        "id": "rArm66RPLkIO",
        "colab": {
          "base_uri": "https://localhost:8080/"
        },
        "outputId": "2e5a648d-9711-4fd6-dd88-9894234f6f22"
      },
      "execution_count": 87,
      "outputs": [
        {
          "output_type": "stream",
          "name": "stdout",
          "text": [
            "2D Reshaped Array:\n",
            "[[ 1  2  3]\n",
            " [ 4  5  6]\n",
            " [ 7  8  9]\n",
            " [10 11 12]]\n",
            "New Shape: (4, 3)\n"
          ]
        }
      ]
    },
    {
      "cell_type": "markdown",
      "source": [
        "# Reshaping arrays\n",
        "\n",
        "Reshaping means changing the shape of an array."
      ],
      "metadata": {
        "id": "Q2a3EUKFLlt_"
      }
    },
    {
      "cell_type": "code",
      "source": [
        "arr = np.array([1, 2, 3, 4, 5, 6, 7, 8, 9, 10, 11, 12])\n",
        "newarr = arr.reshape(3, 4)\n"
      ],
      "metadata": {
        "id": "WpAVFBamLkrt"
      },
      "execution_count": 88,
      "outputs": []
    },
    {
      "cell_type": "code",
      "source": [
        "print(newarr)"
      ],
      "metadata": {
        "id": "eU_QdrgQMhpe",
        "colab": {
          "base_uri": "https://localhost:8080/"
        },
        "outputId": "5cfadded-a702-4d7f-c3e4-1584c033eade"
      },
      "execution_count": 89,
      "outputs": [
        {
          "output_type": "stream",
          "name": "stdout",
          "text": [
            "[[ 1  2  3  4]\n",
            " [ 5  6  7  8]\n",
            " [ 9 10 11 12]]\n"
          ]
        }
      ]
    },
    {
      "cell_type": "code",
      "source": [
        "\n",
        "newarr = arr.reshape(2, 3, 2)\n"
      ],
      "metadata": {
        "id": "AYkQVlWjMhrl"
      },
      "execution_count": 90,
      "outputs": []
    },
    {
      "cell_type": "code",
      "source": [
        "print(newarr)"
      ],
      "metadata": {
        "id": "vLMa7U4rnLmR",
        "colab": {
          "base_uri": "https://localhost:8080/"
        },
        "outputId": "1db79aca-31fd-430a-88c8-e68e313588f4"
      },
      "execution_count": 91,
      "outputs": [
        {
          "output_type": "stream",
          "name": "stdout",
          "text": [
            "[[[ 1  2]\n",
            "  [ 3  4]\n",
            "  [ 5  6]]\n",
            "\n",
            " [[ 7  8]\n",
            "  [ 9 10]\n",
            "  [11 12]]]\n"
          ]
        }
      ]
    },
    {
      "cell_type": "code",
      "source": [
        "\n",
        "arr_flat = newarr.ravel()\n",
        "\n",
        "print(\"Flattened Array:\")\n",
        "print(arr_flat)\n",
        "print(\"Shape:\", arr_flat.shape)"
      ],
      "metadata": {
        "id": "eWlpDJzgnLoX",
        "colab": {
          "base_uri": "https://localhost:8080/"
        },
        "outputId": "2c5f2479-7939-4535-b3dd-22e50adafa06"
      },
      "execution_count": 92,
      "outputs": [
        {
          "output_type": "stream",
          "name": "stdout",
          "text": [
            "Flattened Array:\n",
            "[ 1  2  3  4  5  6  7  8  9 10 11 12]\n",
            "Shape: (12,)\n"
          ]
        }
      ]
    },
    {
      "cell_type": "code",
      "source": [
        "\n",
        "arr_new_shape = arr.reshape(-1, 4)\n",
        "\n",
        "print(\"Reshaped using -1 (3 rows, 4 columns):\")\n",
        "print(arr_new_shape)\n",
        "print(\"Shape:\", arr_new_shape.shape)"
      ],
      "metadata": {
        "id": "dHgqTZSLnLrq",
        "colab": {
          "base_uri": "https://localhost:8080/"
        },
        "outputId": "ef10fc94-7eb8-466a-8b49-ffaf44d97746"
      },
      "execution_count": 93,
      "outputs": [
        {
          "output_type": "stream",
          "name": "stdout",
          "text": [
            "Reshaped using -1 (3 rows, 4 columns):\n",
            "[[ 1  2  3  4]\n",
            " [ 5  6  7  8]\n",
            " [ 9 10 11 12]]\n",
            "Shape: (3, 4)\n"
          ]
        }
      ]
    },
    {
      "cell_type": "code",
      "source": [
        "# print(newarr)"
      ],
      "metadata": {
        "id": "x6PYF8phMhxF"
      },
      "execution_count": 94,
      "outputs": []
    },
    {
      "cell_type": "code",
      "source": [
        "\n",
        "a = np.array([[1, 2], [3, 4]])\n",
        "b = np.array([[5, 6], [7, 8]])\n",
        "c = np.vstack((a, b))\n",
        "print(\"Vertically Stacked Array (vstack):\")\n",
        "print(c)"
      ],
      "metadata": {
        "id": "7I6IWAVEOgNl",
        "colab": {
          "base_uri": "https://localhost:8080/"
        },
        "outputId": "36f77a6f-5c63-4ff5-9b96-53ec3baeb3be"
      },
      "execution_count": 95,
      "outputs": [
        {
          "output_type": "stream",
          "name": "stdout",
          "text": [
            "Vertically Stacked Array (vstack):\n",
            "[[1 2]\n",
            " [3 4]\n",
            " [5 6]\n",
            " [7 8]]\n"
          ]
        }
      ]
    },
    {
      "cell_type": "code",
      "source": [
        "\n",
        "d = np.hstack((a, b))\n",
        "print(\"Horizontally Stacked Array (hstack):\")\n",
        "print(d)"
      ],
      "metadata": {
        "id": "CQWlxqh_Omcv",
        "colab": {
          "base_uri": "https://localhost:8080/"
        },
        "outputId": "097eb48f-dd30-4c98-c00c-db8c00ef5cae"
      },
      "execution_count": 96,
      "outputs": [
        {
          "output_type": "stream",
          "name": "stdout",
          "text": [
            "Horizontally Stacked Array (hstack):\n",
            "[[1 2 5 6]\n",
            " [3 4 7 8]]\n"
          ]
        }
      ]
    },
    {
      "cell_type": "markdown",
      "source": [
        "# Array Indexing\n",
        "\n",
        "Array indexing is the same as accessing an array element.\n",
        "\n",
        "You can access an array element by referring to its index number."
      ],
      "metadata": {
        "id": "PgIzIak6OoFm"
      }
    },
    {
      "cell_type": "code",
      "source": [
        "arr = np.array([1, 2, 3, 4])              # Accessing 1D Array\n",
        "\n",
        "print(arr[3])"
      ],
      "metadata": {
        "id": "0tX3tbEiOyG5",
        "colab": {
          "base_uri": "https://localhost:8080/"
        },
        "outputId": "d464da11-6783-4d15-8bcc-2ea0a952bea3"
      },
      "execution_count": 97,
      "outputs": [
        {
          "output_type": "stream",
          "name": "stdout",
          "text": [
            "4\n"
          ]
        }
      ]
    },
    {
      "cell_type": "code",
      "source": [
        "print(arr[0] + arr[1])                 # Addition of 2 elements"
      ],
      "metadata": {
        "id": "Tsmv3DEFOypt",
        "colab": {
          "base_uri": "https://localhost:8080/"
        },
        "outputId": "9166c9e7-5f3e-416f-e8f8-0cccb79ef207"
      },
      "execution_count": 98,
      "outputs": [
        {
          "output_type": "stream",
          "name": "stdout",
          "text": [
            "3\n"
          ]
        }
      ]
    },
    {
      "cell_type": "code",
      "source": [
        "arr = np.array([[1,2,3,4,5], [6,7,8,9,10]])  # Accessing 2D Array\n",
        "arr.shape\n",
        "\n",
        "# print(arr[0, 3])                          # 1st row 4th element\n",
        "# print(arr[1, 1])                          # 2nd row 5th element\n",
        "print(arr[1,3])"
      ],
      "metadata": {
        "id": "3Rr5Z3S8Oyrd",
        "colab": {
          "base_uri": "https://localhost:8080/"
        },
        "outputId": "ac076717-01eb-4500-c859-dab1749e1976"
      },
      "execution_count": 99,
      "outputs": [
        {
          "output_type": "stream",
          "name": "stdout",
          "text": [
            "9\n"
          ]
        }
      ]
    },
    {
      "cell_type": "code",
      "source": [
        "arr"
      ],
      "metadata": {
        "id": "GASoXUNzpJRD",
        "colab": {
          "base_uri": "https://localhost:8080/"
        },
        "outputId": "81a058d4-7260-4fcf-b17d-43be2c067a2c"
      },
      "execution_count": 100,
      "outputs": [
        {
          "output_type": "execute_result",
          "data": {
            "text/plain": [
              "array([[ 1,  2,  3,  4,  5],\n",
              "       [ 6,  7,  8,  9, 10]])"
            ]
          },
          "metadata": {},
          "execution_count": 100
        }
      ]
    },
    {
      "cell_type": "code",
      "source": [
        "arr3 = np.array([[[1, 2, 3], [4, 5, 6]], [[7, 8, 9], [10, 11, 12]]])   # Accessing 3D Array\n",
        "\n",
        "arr3.shape\n",
        "# print(arr3)\n",
        "# print(arr3[0, 0, 2])               # 1st matrix, 1st row, 3rd column\n",
        "# print(arr3[1, 1, 1])               # 1st matrix, 2nd row, 1st column\n",
        "print(arr3[0,1,0])"
      ],
      "metadata": {
        "id": "7YsdWkpKOyvF",
        "colab": {
          "base_uri": "https://localhost:8080/"
        },
        "outputId": "8f29d097-81b9-4f2a-ce8f-c70482d6a757"
      },
      "execution_count": 101,
      "outputs": [
        {
          "output_type": "stream",
          "name": "stdout",
          "text": [
            "4\n"
          ]
        }
      ]
    },
    {
      "cell_type": "code",
      "source": [
        "print(arr3)"
      ],
      "metadata": {
        "id": "5AAUTgXkpIrZ",
        "colab": {
          "base_uri": "https://localhost:8080/"
        },
        "outputId": "3a80d3e5-c7d3-48d2-db16-8276fb01e691"
      },
      "execution_count": 102,
      "outputs": [
        {
          "output_type": "stream",
          "name": "stdout",
          "text": [
            "[[[ 1  2  3]\n",
            "  [ 4  5  6]]\n",
            "\n",
            " [[ 7  8  9]\n",
            "  [10 11 12]]]\n"
          ]
        }
      ]
    },
    {
      "cell_type": "code",
      "source": [
        "\n",
        "slice1 = arr3[:, 0, :]\n",
        "print(\"First Row of All Blocks:\\n\", slice1)\n",
        "slice2 = arr3[1, :, :]\n",
        "print(\"\\nSecond Block (2D Matrix):\\n\", slice2)\n",
        "slice3 = arr3[:, :, 1]\n",
        "print(\"\\nMiddle Column of All Blocks:\\n\", slice3)"
      ],
      "metadata": {
        "id": "rPuQA0msRYGP",
        "colab": {
          "base_uri": "https://localhost:8080/"
        },
        "outputId": "aa99bc4d-e2d5-43a3-8eb3-a98a654f7615"
      },
      "execution_count": 103,
      "outputs": [
        {
          "output_type": "stream",
          "name": "stdout",
          "text": [
            "First Row of All Blocks:\n",
            " [[1 2 3]\n",
            " [7 8 9]]\n",
            "\n",
            "Second Block (2D Matrix):\n",
            " [[ 7  8  9]\n",
            " [10 11 12]]\n",
            "\n",
            "Middle Column of All Blocks:\n",
            " [[ 2  5]\n",
            " [ 8 11]]\n"
          ]
        }
      ]
    }
  ]
}