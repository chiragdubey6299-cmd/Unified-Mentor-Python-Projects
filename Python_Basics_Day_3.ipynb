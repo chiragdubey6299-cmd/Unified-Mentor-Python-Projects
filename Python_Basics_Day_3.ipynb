{
  "nbformat": 4,
  "nbformat_minor": 0,
  "metadata": {
    "colab": {
      "provenance": [],
      "include_colab_link": true
    },
    "kernelspec": {
      "name": "python3",
      "display_name": "Python 3"
    },
    "language_info": {
      "name": "python"
    }
  },
  "cells": [
    {
      "cell_type": "markdown",
      "metadata": {
        "id": "view-in-github",
        "colab_type": "text"
      },
      "source": [
        "<a href=\"https://colab.research.google.com/github/chiragdubey6299-cmd/Unified-Mentor-Python-Projects/blob/main/Python_Basics_Day_3.ipynb\" target=\"_parent\"><img src=\"https://colab.research.google.com/assets/colab-badge.svg\" alt=\"Open In Colab\"/></a>"
      ]
    },
    {
      "cell_type": "markdown",
      "source": [
        "# For Loop\n",
        "\n",
        "*   It is used for iterating over a sequence (that is either a list, a tuple, a dictionary, a set, or a string).\n",
        "*   Using Break & Contiue keyword\n",
        "\n"
      ],
      "metadata": {
        "id": "qVFRkTAnzX7k"
      }
    },
    {
      "cell_type": "code",
      "source": [
        "fruits = [\"apple\", \"banana\", \"cherry\",'pineappple','mango']\n",
        "\n",
        "for i in fruits:\n",
        "  print(i)"
      ],
      "metadata": {
        "colab": {
          "base_uri": "https://localhost:8080/"
        },
        "id": "0PJX371rzRtE",
        "outputId": "2d6742c7-8651-455a-8d51-a74efae39615"
      },
      "execution_count": 10,
      "outputs": [
        {
          "output_type": "stream",
          "name": "stdout",
          "text": [
            "apple\n",
            "banana\n",
            "cherry\n",
            "pineappple\n",
            "mango\n"
          ]
        }
      ]
    },
    {
      "cell_type": "code",
      "source": [
        "fruits = [\"apple\", \"banana\", \"cherry\", \"pineapple\", \"mango\"]\n",
        "\n",
        "for x in fruits:\n",
        "  print(x)\n",
        "  if x == \"cherry\":\n",
        "    break  # Stops the loop completely"
      ],
      "metadata": {
        "id": "spkCR2UQqM18",
        "outputId": "463a6f8c-28f6-42ff-f20f-932e8b5bbfc9",
        "colab": {
          "base_uri": "https://localhost:8080/"
        }
      },
      "execution_count": 11,
      "outputs": [
        {
          "output_type": "stream",
          "name": "stdout",
          "text": [
            "apple\n",
            "banana\n",
            "cherry\n"
          ]
        }
      ]
    },
    {
      "cell_type": "code",
      "source": [
        "fruits = [\"apple\", \"banana\", \"cherry\", \"pineapple\", \"mango\"]\n",
        "\n",
        "for x in fruits:\n",
        "  if x == \"cherry\":\n",
        "    continue  # Skips 'cherry' and goes to 'pineapple'\n",
        "  print(x)"
      ],
      "metadata": {
        "id": "YjIy2LOeqM5i",
        "outputId": "184a6b96-90d6-43c8-b562-a357fb5ce88b",
        "colab": {
          "base_uri": "https://localhost:8080/"
        }
      },
      "execution_count": 12,
      "outputs": [
        {
          "output_type": "stream",
          "name": "stdout",
          "text": [
            "apple\n",
            "banana\n",
            "pineapple\n",
            "mango\n"
          ]
        }
      ]
    },
    {
      "cell_type": "code",
      "source": [
        "for x in fruits:\n",
        "  print(x)\n",
        "  if x == \"banana\":\n",
        "    break"
      ],
      "metadata": {
        "colab": {
          "base_uri": "https://localhost:8080/"
        },
        "id": "HLUxrJtZzRvU",
        "outputId": "9ca4132d-bbf8-4359-d95b-4d2e207356e2"
      },
      "execution_count": 13,
      "outputs": [
        {
          "output_type": "stream",
          "name": "stdout",
          "text": [
            "apple\n",
            "banana\n"
          ]
        }
      ]
    },
    {
      "cell_type": "code",
      "source": [
        "for x in fruits:\n",
        "  if x == \"cherry\":\n",
        "    continue\n",
        "  print(x)"
      ],
      "metadata": {
        "colab": {
          "base_uri": "https://localhost:8080/"
        },
        "id": "_O3nKB7PzRxM",
        "outputId": "eca05935-80bb-4a08-8d85-f36f0de88c60"
      },
      "execution_count": 14,
      "outputs": [
        {
          "output_type": "stream",
          "name": "stdout",
          "text": [
            "apple\n",
            "banana\n",
            "pineapple\n",
            "mango\n"
          ]
        }
      ]
    },
    {
      "cell_type": "code",
      "source": [
        "fruits = [\"apple\", \"banana\", \"cherry\", \"pineapple\", \"mango\"]\n",
        "\n",
        "for x in fruits:\n",
        "  if x == \"cherry\":\n",
        "    print(\"Found 'cherry', breaking the loop!\")\n",
        "    break  # The loop stops here\n",
        "  print(x)"
      ],
      "metadata": {
        "id": "Bs9dXpPrzR8z",
        "outputId": "c0929894-8cd8-4ec5-9383-e91894bb7c98",
        "colab": {
          "base_uri": "https://localhost:8080/"
        }
      },
      "execution_count": 15,
      "outputs": [
        {
          "output_type": "stream",
          "name": "stdout",
          "text": [
            "apple\n",
            "banana\n",
            "Found 'cherry', breaking the loop!\n"
          ]
        }
      ]
    },
    {
      "cell_type": "code",
      "source": [
        "fruits = [\"apple\", \"banana\", \"cherry\", \"pineapple\", \"mango\"]\n",
        "\n",
        "for x in fruits:\n",
        "  if x == \"cherry\":\n",
        "    print(\"Skipping 'cherry'...\")\n",
        "    continue  # Jumps to the next fruit ('pineapple')\n",
        "  print(x)"
      ],
      "metadata": {
        "id": "VOolsI5FzR-r",
        "outputId": "30031f08-ec9e-4389-e2a2-878468d8b4ab",
        "colab": {
          "base_uri": "https://localhost:8080/"
        }
      },
      "execution_count": 16,
      "outputs": [
        {
          "output_type": "stream",
          "name": "stdout",
          "text": [
            "apple\n",
            "banana\n",
            "Skipping 'cherry'...\n",
            "pineapple\n",
            "mango\n"
          ]
        }
      ]
    },
    {
      "cell_type": "markdown",
      "source": [
        "# While Loop\n",
        "\n",
        "*   With the while loop we can execute a set of statements as long as a condition is true.\n",
        "*   Using Break & Contiue keyword"
      ],
      "metadata": {
        "id": "BbBlNnws3R4W"
      }
    },
    {
      "cell_type": "code",
      "source": [
        "num = 1\n",
        "\n",
        "while num < 6:\n",
        "  print(num)\n",
        "  num += 1"
      ],
      "metadata": {
        "colab": {
          "base_uri": "https://localhost:8080/"
        },
        "id": "vsKlaf0xu-eA",
        "outputId": "90e07ce9-32d5-4048-a6f0-759a6072dd5a"
      },
      "execution_count": 17,
      "outputs": [
        {
          "output_type": "stream",
          "name": "stdout",
          "text": [
            "1\n",
            "2\n",
            "3\n",
            "4\n",
            "5\n"
          ]
        }
      ]
    },
    {
      "cell_type": "code",
      "source": [
        "num = 1\n",
        "\n",
        "while num < 6:\n",
        "  print(num)\n",
        "  if num == 3:\n",
        "    break\n",
        "  num = num + 1"
      ],
      "metadata": {
        "colab": {
          "base_uri": "https://localhost:8080/"
        },
        "id": "llNoUMnIzSJb",
        "outputId": "00160813-4343-4c94-fe28-5edc539ad1af"
      },
      "execution_count": 18,
      "outputs": [
        {
          "output_type": "stream",
          "name": "stdout",
          "text": [
            "1\n",
            "2\n",
            "3\n"
          ]
        }
      ]
    },
    {
      "cell_type": "code",
      "source": [
        "num = 0\n",
        "\n",
        "while num < 5:\n",
        "  num = num + 1  # Increment first\n",
        "  if num == 3:\n",
        "    print(\"Skipping 3...\")\n",
        "    continue     # Skip printing when num is 3\n",
        "  print(num)"
      ],
      "metadata": {
        "id": "NGLNfoyPv8fw",
        "outputId": "68f6885a-9a4d-4cc3-d9e8-8e60435a36ee",
        "colab": {
          "base_uri": "https://localhost:8080/"
        }
      },
      "execution_count": 19,
      "outputs": [
        {
          "output_type": "stream",
          "name": "stdout",
          "text": [
            "1\n",
            "2\n",
            "Skipping 3...\n",
            "4\n",
            "5\n"
          ]
        }
      ]
    },
    {
      "cell_type": "code",
      "source": [
        "num = 1\n",
        "\n",
        "while num < 4:\n",
        "  print(num)\n",
        "  num = num + 1\n",
        "else:\n",
        "  print(\"The loop has finished counting!\")"
      ],
      "metadata": {
        "id": "gCHWSpn7v8jU",
        "outputId": "dd00575c-cef3-44b3-b112-0d8d766c5f6e",
        "colab": {
          "base_uri": "https://localhost:8080/"
        }
      },
      "execution_count": 20,
      "outputs": [
        {
          "output_type": "stream",
          "name": "stdout",
          "text": [
            "1\n",
            "2\n",
            "3\n",
            "The loop has finished counting!\n"
          ]
        }
      ]
    },
    {
      "cell_type": "code",
      "source": [
        "num = 0\n",
        "\n",
        "while num < 10:\n",
        "  num += 1\n",
        "  if num == 5:\n",
        "    continue\n",
        "  print(num)"
      ],
      "metadata": {
        "colab": {
          "base_uri": "https://localhost:8080/"
        },
        "id": "216Eb_bp4I39",
        "outputId": "39843be7-522c-45bc-b105-11f40282efe1"
      },
      "execution_count": 21,
      "outputs": [
        {
          "output_type": "stream",
          "name": "stdout",
          "text": [
            "1\n",
            "2\n",
            "3\n",
            "4\n",
            "6\n",
            "7\n",
            "8\n",
            "9\n",
            "10\n"
          ]
        }
      ]
    },
    {
      "cell_type": "code",
      "source": [
        "# Demonstrating the 'break' statement\n",
        "num = 0\n",
        "while num < 10:\n",
        "    num += 1\n",
        "    if num == 7:\n",
        "        print(\"Breaking the loop when num is 7\")\n",
        "        break\n",
        "    print(num)"
      ],
      "metadata": {
        "id": "SeSY6lRE4I6E",
        "outputId": "61e92360-8290-4cfc-ba6e-e21879dd2b4d",
        "colab": {
          "base_uri": "https://localhost:8080/"
        }
      },
      "execution_count": 22,
      "outputs": [
        {
          "output_type": "stream",
          "name": "stdout",
          "text": [
            "1\n",
            "2\n",
            "3\n",
            "4\n",
            "5\n",
            "6\n",
            "Breaking the loop when num is 7\n"
          ]
        }
      ]
    },
    {
      "cell_type": "code",
      "source": [
        "# Simple example using the range() function\n",
        "for i in range(1, 6):\n",
        "    print(f\"The current number is: {i}\")\n",
        "\n",
        "# Example iterating over a list\n",
        "fruits = [\"apple\", \"banana\", \"cherry\"]\n",
        "for fruit in fruits:\n",
        "    print(fruit)"
      ],
      "metadata": {
        "id": "4WkVAVl14I7_",
        "outputId": "c6e68b4b-fe9b-470e-d482-b0382b61f827",
        "colab": {
          "base_uri": "https://localhost:8080/"
        }
      },
      "execution_count": 23,
      "outputs": [
        {
          "output_type": "stream",
          "name": "stdout",
          "text": [
            "The current number is: 1\n",
            "The current number is: 2\n",
            "The current number is: 3\n",
            "The current number is: 4\n",
            "The current number is: 5\n",
            "apple\n",
            "banana\n",
            "cherry\n"
          ]
        }
      ]
    },
    {
      "cell_type": "markdown",
      "source": [
        "# Python Functions\n",
        "\n",
        "*   A function is a block of code which only runs when it is called.\n",
        "\n",
        "*   Advanced Functions - lambda, map, zip"
      ],
      "metadata": {
        "id": "Cby1_zmlNmoy"
      }
    },
    {
      "cell_type": "code",
      "source": [
        "def intro():                     # Function Defining\n",
        "  value = 5\n",
        "  return value**2\n",
        "  # print(\"Hello i'm from a function\")"
      ],
      "metadata": {
        "id": "NnFc0NtONk-1"
      },
      "execution_count": 24,
      "outputs": []
    },
    {
      "cell_type": "code",
      "source": [
        "intro()       # Function Calling"
      ],
      "metadata": {
        "colab": {
          "base_uri": "https://localhost:8080/"
        },
        "id": "GRFH3KvUNlAc",
        "outputId": "a31a1c1b-2cd3-46ca-be1f-d2e41bbf28c6"
      },
      "execution_count": 25,
      "outputs": [
        {
          "output_type": "execute_result",
          "data": {
            "text/plain": [
              "25"
            ]
          },
          "metadata": {},
          "execution_count": 25
        }
      ]
    },
    {
      "cell_type": "code",
      "source": [
        "def my_ID(name):                    # Function with Arguments\n",
        "  print(\"CR001_\" + name)\n"
      ],
      "metadata": {
        "id": "A6g3tDxPNlCl"
      },
      "execution_count": 26,
      "outputs": []
    },
    {
      "cell_type": "code",
      "source": [
        "my_ID(\"Sai\")"
      ],
      "metadata": {
        "colab": {
          "base_uri": "https://localhost:8080/"
        },
        "id": "96VtEXhl3yMI",
        "outputId": "d59ec531-6ebb-4fa8-8959-c1cf20c42146"
      },
      "execution_count": 27,
      "outputs": [
        {
          "output_type": "stream",
          "name": "stdout",
          "text": [
            "CR001_Sai\n"
          ]
        }
      ]
    },
    {
      "cell_type": "code",
      "source": [
        "# def add(a,b,c):\n",
        "#   return a+b+c\n",
        "\n",
        "\n",
        "# Using Lambda Function\n",
        "\n",
        "add = lambda a,b,c: print(a+b+c)"
      ],
      "metadata": {
        "id": "W-oSbLOZQSeK"
      },
      "execution_count": 28,
      "outputs": []
    },
    {
      "cell_type": "code",
      "source": [
        "add(4, 5, 5)"
      ],
      "metadata": {
        "colab": {
          "base_uri": "https://localhost:8080/"
        },
        "id": "kfsw73sN5CrQ",
        "outputId": "a4b637fc-75df-4e29-eda9-773ac17819e3"
      },
      "execution_count": 29,
      "outputs": [
        {
          "output_type": "stream",
          "name": "stdout",
          "text": [
            "14\n"
          ]
        }
      ]
    },
    {
      "cell_type": "code",
      "source": [
        "# add(4,5,1)"
      ],
      "metadata": {
        "id": "oIHbvRAG4j8N"
      },
      "execution_count": 30,
      "outputs": []
    },
    {
      "cell_type": "code",
      "source": [
        "# Map Function\n",
        "\n",
        "nums = [1, 2, 3, 4, 5]\n",
        "\n",
        "def sq(n):\n",
        "    return n*n\n",
        "\n",
        "# sq(2)\n",
        "\n",
        "square = map(sq, nums)\n",
        "\n",
        "print(list(square))"
      ],
      "metadata": {
        "colab": {
          "base_uri": "https://localhost:8080/"
        },
        "id": "mzGwEzSNQvoK",
        "outputId": "b27135b6-66a6-467c-8299-10ac5e2797a3"
      },
      "execution_count": 31,
      "outputs": [
        {
          "output_type": "stream",
          "name": "stdout",
          "text": [
            "[1, 4, 9, 16, 25]\n"
          ]
        }
      ]
    },
    {
      "cell_type": "code",
      "source": [
        "# Zip Function\n",
        "\n",
        "name = [\"Manjeet\", \"Nikhil\", \"Shambhavi\"]\n",
        "ID = [4, 1, 3]\n",
        "\n",
        "mapped = zip(name, ID)\n",
        "\n",
        "print(list(mapped))"
      ],
      "metadata": {
        "colab": {
          "base_uri": "https://localhost:8080/"
        },
        "id": "S2vIGMY1RQ8V",
        "outputId": "1fb76d08-ca86-4ca4-f686-78151f4a68c1"
      },
      "execution_count": 32,
      "outputs": [
        {
          "output_type": "stream",
          "name": "stdout",
          "text": [
            "[('Manjeet', 4), ('Nikhil', 1), ('Shambhavi', 3)]\n"
          ]
        }
      ]
    },
    {
      "cell_type": "code",
      "source": [
        "type(mapped)"
      ],
      "metadata": {
        "id": "9cE0PxwDRRP-",
        "colab": {
          "base_uri": "https://localhost:8080/"
        },
        "outputId": "bea1ef2e-f106-4e34-e1b0-f5c551b50f91"
      },
      "execution_count": 33,
      "outputs": [
        {
          "output_type": "execute_result",
          "data": {
            "text/plain": [
              "zip"
            ]
          },
          "metadata": {},
          "execution_count": 33
        }
      ]
    },
    {
      "cell_type": "code",
      "source": [
        "import math\n",
        "\n",
        "def circle_area(radius):\n",
        "    \"\"\"Calculates the area of a circle given its radius.\"\"\"\n",
        "    return math.pi * (radius ** 2)\n",
        "\n",
        "# Call the new function\n",
        "print(f\"Area with radius 5: {circle_area(5)}\")"
      ],
      "metadata": {
        "id": "u2lr_RN9RRRb",
        "outputId": "d58405a1-8cbb-4754-bf55-a8c37b379b26",
        "colab": {
          "base_uri": "https://localhost:8080/"
        }
      },
      "execution_count": 34,
      "outputs": [
        {
          "output_type": "stream",
          "name": "stdout",
          "text": [
            "Area with radius 5: 78.53981633974483\n"
          ]
        }
      ]
    }
  ]
}