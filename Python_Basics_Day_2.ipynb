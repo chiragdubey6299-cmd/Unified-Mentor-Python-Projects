{
  "nbformat": 4,
  "nbformat_minor": 0,
  "metadata": {
    "colab": {
      "provenance": [],
      "include_colab_link": true
    },
    "kernelspec": {
      "name": "python3",
      "display_name": "Python 3"
    },
    "language_info": {
      "name": "python"
    }
  },
  "cells": [
    {
      "cell_type": "markdown",
      "metadata": {
        "id": "view-in-github",
        "colab_type": "text"
      },
      "source": [
        "<a href=\"https://colab.research.google.com/github/chiragdubey6299-cmd/Unified-Mentor-Python-Projects/blob/main/Python_Basics_Day_2.ipynb\" target=\"_parent\"><img src=\"https://colab.research.google.com/assets/colab-badge.svg\" alt=\"Open In Colab\"/></a>"
      ]
    },
    {
      "cell_type": "markdown",
      "source": [
        "\n",
        "# List and it's Methods\n",
        "\n",
        "Lists are used to store multiple items in a single variable.\n",
        "\n",
        "*   Lists are used to store multiple items in a single variable.\n",
        "*   It is a collection which is ordered, changeable and allows duplicate members.\n",
        "\n",
        "**List Methods**\n",
        "\n",
        "\n",
        "append(), sort(), reverse(), remove(), pop(), insert(), index(), extend(), count(), copy(), clear()\n",
        "\n",
        "\n",
        "\n",
        "\n",
        "\n"
      ],
      "metadata": {
        "id": "1P1jdwht7AjD"
      }
    },
    {
      "cell_type": "code",
      "source": [
        "# fruits = ['apple', 'cherry', 'banana']\n",
        "\n",
        "# fruits.append(\"orange\")\n",
        "# fruits.sort()\n",
        "# fruits.reverse()\n",
        "# fruits.remove(\"banana\")\n",
        "# fruits.pop(1)\n",
        "# fruits.insert(1, \"watermelon\")\n",
        "# fruits.index(\"orange\")\n",
        "\n",
        "# others = ['pineapple', 'strawaberry', 'guava','cherry','pineapple']\n",
        "\n",
        "# fruits.extend(others)\n",
        "# fruits.count(\"cherry\")\n",
        "# fruits.copy()\n",
        "# fruits.clear()"
      ],
      "metadata": {
        "id": "9ks2pSF96rTZ"
      },
      "execution_count": 155,
      "outputs": []
    },
    {
      "cell_type": "code",
      "source": [
        "# fruits"
      ],
      "metadata": {
        "id": "48CrCwoH6rW0"
      },
      "execution_count": 156,
      "outputs": []
    },
    {
      "cell_type": "code",
      "source": [
        "# fruits.pop(0)"
      ],
      "metadata": {
        "id": "HXZXeG5vgEoR"
      },
      "execution_count": 157,
      "outputs": []
    },
    {
      "cell_type": "code",
      "source": [
        "# fruits_2"
      ],
      "metadata": {
        "id": "JquTuL9vd1xy"
      },
      "execution_count": 158,
      "outputs": []
    },
    {
      "cell_type": "code",
      "source": [
        "fruits = ['apple', 'cherry', 'banana']\n",
        "fruits\n"
      ],
      "metadata": {
        "id": "MPcoGqTGd18a",
        "colab": {
          "base_uri": "https://localhost:8080/"
        },
        "outputId": "42586429-2064-4be5-f07b-aca22d3b748b"
      },
      "execution_count": 159,
      "outputs": [
        {
          "output_type": "execute_result",
          "data": {
            "text/plain": [
              "['apple', 'cherry', 'banana']"
            ]
          },
          "metadata": {},
          "execution_count": 159
        }
      ]
    },
    {
      "cell_type": "code",
      "source": [
        "fruits.pop(0)\n",
        "fruits\n"
      ],
      "metadata": {
        "id": "Q5uWH0j8d2FJ",
        "colab": {
          "base_uri": "https://localhost:8080/"
        },
        "outputId": "41c0c969-ac02-487b-b3db-96a609cdda87"
      },
      "execution_count": 160,
      "outputs": [
        {
          "output_type": "execute_result",
          "data": {
            "text/plain": [
              "['cherry', 'banana']"
            ]
          },
          "metadata": {},
          "execution_count": 160
        }
      ]
    },
    {
      "cell_type": "code",
      "source": [
        "fruits_2 = ['pineapple', 'strawberry', 'guava', 'cherry', 'pineapple']\n",
        "fruits_2\n"
      ],
      "metadata": {
        "id": "PrT54CS5d2NH",
        "colab": {
          "base_uri": "https://localhost:8080/"
        },
        "outputId": "d7b2e413-ec22-4ccd-cc83-c7b63cbc3bc5"
      },
      "execution_count": 161,
      "outputs": [
        {
          "output_type": "execute_result",
          "data": {
            "text/plain": [
              "['pineapple', 'strawberry', 'guava', 'cherry', 'pineapple']"
            ]
          },
          "metadata": {},
          "execution_count": 161
        }
      ]
    },
    {
      "cell_type": "code",
      "source": [
        "fruits.extend(fruits_2)\n",
        "fruits\n"
      ],
      "metadata": {
        "id": "TEMdAmlYd2Ud",
        "colab": {
          "base_uri": "https://localhost:8080/"
        },
        "outputId": "126dc0ff-1c30-4de1-ac5f-d8742f645693"
      },
      "execution_count": 162,
      "outputs": [
        {
          "output_type": "execute_result",
          "data": {
            "text/plain": [
              "['cherry', 'banana', 'pineapple', 'strawberry', 'guava', 'cherry', 'pineapple']"
            ]
          },
          "metadata": {},
          "execution_count": 162
        }
      ]
    },
    {
      "cell_type": "markdown",
      "source": [
        "# String and it's Methods\n",
        "\n",
        "*   All string methods returns new values. They do not change the original string.\n",
        "\n",
        "**String Methods**\n",
        "\n",
        "\n",
        "*   isalpha(), isalnum(), index(), find(), count(), capitalize(), isdigit(), islower(), isnumeric()\n",
        "*   endswith(), upper(), title(), swapcase(), strip(), startswith(), split(), join(), lower(), replace()"
      ],
      "metadata": {
        "id": "1CeUtg8TA_jj"
      }
    },
    {
      "cell_type": "code",
      "source": [
        "txt = \"hello, and welcome to our course.\"\n",
        "a = txt.capitalize()\n",
        "# print(a)\n",
        "\n",
        "txt = \"I am from India and born in Maharashtra, India\"\n",
        "b = txt.count(\"India\")\n",
        "# print(b)\n",
        "\n",
        "txt = \"I love apples, apple are my favorite fruit\"\n",
        "c = txt.find(\"banana\")\n",
        "# print(c)\n",
        "\n",
        "# d = txt.index(\"banana\")\n",
        "# print(d)\n",
        "\n",
        "txt = \"hello, my name is Peter, I am 26 years old\"\n",
        "e = txt.split(',')\n",
        "print(e)"
      ],
      "metadata": {
        "id": "cgSVsDxU6rc8",
        "colab": {
          "base_uri": "https://localhost:8080/"
        },
        "outputId": "b519d7ee-dd87-44a0-eee9-a499014812b2"
      },
      "execution_count": 163,
      "outputs": [
        {
          "output_type": "stream",
          "name": "stdout",
          "text": [
            "['hello', ' my name is Peter', ' I am 26 years old']\n"
          ]
        }
      ]
    },
    {
      "cell_type": "code",
      "source": [
        "# Cell 1: Using replace()\n",
        "txt = \"I like blue cars. Blue is my favorite color.\"\n",
        "# Replace \"Blue\" with \"Red\"\n",
        "new_txt = txt.replace(\"Blue\", \"Red\")\n",
        "print(new_txt)"
      ],
      "metadata": {
        "id": "LxsAlmWxrquh",
        "colab": {
          "base_uri": "https://localhost:8080/"
        },
        "outputId": "0d029cef-4ca1-4acd-986f-fd3b413973fe"
      },
      "execution_count": 164,
      "outputs": [
        {
          "output_type": "stream",
          "name": "stdout",
          "text": [
            "I like blue cars. Red is my favorite color.\n"
          ]
        }
      ]
    },
    {
      "cell_type": "code",
      "source": [
        "# Cell 2: Using strip()\n",
        "txt = \"   Python is fun!   \\n\" # \\n is a newline character (also whitespace)\n",
        "cleaned_txt = txt.strip()\n",
        "print(cleaned_txt)"
      ],
      "metadata": {
        "id": "-yPlXfrcrqw9",
        "colab": {
          "base_uri": "https://localhost:8080/"
        },
        "outputId": "0f8b4683-91f2-4c45-8dc3-bc94b4e2f958"
      },
      "execution_count": 165,
      "outputs": [
        {
          "output_type": "stream",
          "name": "stdout",
          "text": [
            "Python is fun!\n"
          ]
        }
      ]
    },
    {
      "cell_type": "code",
      "source": [
        "# Cell 3: Using upper() and lower()\n",
        "txt = \"mIxEd CaSe\"\n",
        "print(txt.upper())\n",
        "print(txt.lower())"
      ],
      "metadata": {
        "id": "MN0HLORFrq0V",
        "colab": {
          "base_uri": "https://localhost:8080/"
        },
        "outputId": "50bc278a-cbb0-4409-b56e-0fcfa6e9178a"
      },
      "execution_count": 166,
      "outputs": [
        {
          "output_type": "stream",
          "name": "stdout",
          "text": [
            "MIXED CASE\n",
            "mixed case\n"
          ]
        }
      ]
    },
    {
      "cell_type": "code",
      "source": [
        "txt = \"I love apples, apple is my favorite fruit\""
      ],
      "metadata": {
        "id": "tkFZpxvArlgJ"
      },
      "execution_count": 167,
      "outputs": []
    },
    {
      "cell_type": "code",
      "source": [
        "txt.find('banana')"
      ],
      "metadata": {
        "colab": {
          "base_uri": "https://localhost:8080/"
        },
        "id": "snLltyXmrr3R",
        "outputId": "cdb2e679-f72c-4ade-a483-845e37c3b251"
      },
      "execution_count": 168,
      "outputs": [
        {
          "output_type": "execute_result",
          "data": {
            "text/plain": [
              "-1"
            ]
          },
          "metadata": {},
          "execution_count": 168
        }
      ]
    },
    {
      "cell_type": "code",
      "source": [
        "txt.index('apple')"
      ],
      "metadata": {
        "colab": {
          "base_uri": "https://localhost:8080/"
        },
        "id": "P1yMe6e0rr5t",
        "outputId": "8450adea-bea2-4871-baa5-c15c20906047"
      },
      "execution_count": 169,
      "outputs": [
        {
          "output_type": "execute_result",
          "data": {
            "text/plain": [
              "7"
            ]
          },
          "metadata": {},
          "execution_count": 169
        }
      ]
    },
    {
      "cell_type": "code",
      "source": [
        "# Example of using .find()\n",
        "txt = \"I love apples, orange is my favorite fruit\"\n",
        "position = txt.find('banana')\n",
        "print(position)\n",
        "# Output: -1"
      ],
      "metadata": {
        "id": "SDzvFbNZrr8q",
        "colab": {
          "base_uri": "https://localhost:8080/"
        },
        "outputId": "4cc2bf90-ac72-4e32-cefc-5ba13e922f9a"
      },
      "execution_count": 170,
      "outputs": [
        {
          "output_type": "stream",
          "name": "stdout",
          "text": [
            "-1\n"
          ]
        }
      ]
    },
    {
      "cell_type": "code",
      "source": [
        "# Find the position of 'fruit'\n",
        "txt = \"I love apples, apple is my favorite fruit\"\n",
        "position = txt.index(\"fruit\")\n",
        "print(position)\n",
        "# Expected Output: 34 (The index of the first 'f' in the word 'fruit')"
      ],
      "metadata": {
        "id": "PR-YgueQr5_P",
        "colab": {
          "base_uri": "https://localhost:8080/"
        },
        "outputId": "7ea46d92-6275-4dc5-e532-2cd90da37235"
      },
      "execution_count": 171,
      "outputs": [
        {
          "output_type": "stream",
          "name": "stdout",
          "text": [
            "36\n"
          ]
        }
      ]
    },
    {
      "cell_type": "code",
      "source": [
        "# Using replace()\n",
        "txt = \"I love apples, apple is my favorite fruit\"\n",
        "new_txt = txt.replace(\"apple\", \"mango\")\n",
        "print(new_txt)\n",
        "# Expected Output: I love mangoes, mango is my favorite fruit"
      ],
      "metadata": {
        "id": "Z0VtZ-Dpr6CC",
        "colab": {
          "base_uri": "https://localhost:8080/"
        },
        "outputId": "40678c0e-675f-4775-893b-4387e51ffbf0"
      },
      "execution_count": 172,
      "outputs": [
        {
          "output_type": "stream",
          "name": "stdout",
          "text": [
            "I love mangos, mango is my favorite fruit\n"
          ]
        }
      ]
    },
    {
      "cell_type": "code",
      "source": [
        "# Using join()\n",
        "words = [\"I\", \"am\", \"learning\", \"Python\"]\n",
        "# Use a space \" \" as the separator\n",
        "sentence = \" \".join(words)\n",
        "print(sentence)\n",
        "\n",
        "# Another example: joining with a comma and space\n",
        "data = [\"Apple\", \"Banana\", \"Cherry\"]\n",
        "csv_data = \", \".join(data)\n",
        "print(csv_data)"
      ],
      "metadata": {
        "id": "PZS4PFXgr6FN",
        "colab": {
          "base_uri": "https://localhost:8080/"
        },
        "outputId": "0acb61ef-c9c1-4289-e07c-1d8af30ca60c"
      },
      "execution_count": 173,
      "outputs": [
        {
          "output_type": "stream",
          "name": "stdout",
          "text": [
            "I am learning Python\n",
            "Apple, Banana, Cherry\n"
          ]
        }
      ]
    },
    {
      "cell_type": "code",
      "source": [
        "txt = \"Company12\"\n",
        "name = txt.isalnum()\n",
        "# print(name)\n",
        "\n",
        "txt = \"Company\"\n",
        "alpha = txt.isalpha()\n",
        "# print(alpha)\n",
        "\n",
        "txt = '50800'\n",
        "num = txt.isdigit()\n",
        "# print(num)\n",
        "\n",
        "names = [\"John\", \"Peter\", \"Vicky\"]\n",
        "joined = \"_\".join(names)\n",
        "# print(joined)\n",
        "\n",
        "txt = \"I love sports\"\n",
        "result = txt.replace(\"sports\", \"cricket\")\n",
        "print(result)"
      ],
      "metadata": {
        "id": "4wPE9X9y6rte",
        "colab": {
          "base_uri": "https://localhost:8080/"
        },
        "outputId": "23a8a443-b4e7-4a64-9543-9ad58dbb8ab5"
      },
      "execution_count": 174,
      "outputs": [
        {
          "output_type": "stream",
          "name": "stdout",
          "text": [
            "I love cricket\n"
          ]
        }
      ]
    },
    {
      "cell_type": "code",
      "source": [
        "txt = \"Hello, welcome to my world.\"\n",
        "start = txt.startswith(\"Hello\")\n",
        "end = txt.endswith(\".\")"
      ],
      "metadata": {
        "id": "y6bq81tA6rxJ"
      },
      "execution_count": 175,
      "outputs": []
    },
    {
      "cell_type": "code",
      "source": [
        "start, end"
      ],
      "metadata": {
        "id": "GyjuncKD6r5u",
        "colab": {
          "base_uri": "https://localhost:8080/"
        },
        "outputId": "f438b33f-bfbd-44c5-c9a3-c32f9160fb3a"
      },
      "execution_count": 176,
      "outputs": [
        {
          "output_type": "execute_result",
          "data": {
            "text/plain": [
              "(True, True)"
            ]
          },
          "metadata": {},
          "execution_count": 176
        }
      ]
    },
    {
      "cell_type": "code",
      "source": [
        "# Final Empty Cell: Using strip()\n",
        "txt = \"   \\n\\tThis text needs cleaning.   \"\n",
        "\n",
        "# Use strip() to remove all leading and trailing whitespace characters\n",
        "cleaned_txt = txt.strip()\n",
        "\n",
        "print(f\"Original: '{txt}'\")\n",
        "print(f\"Cleaned: '{cleaned_txt}'\")\n",
        "\n",
        "# You can also strip specific characters, for example:\n",
        "data = \"***Hello World***\"\n",
        "stripped_data = data.strip(\"*\")\n",
        "print(f\"Stripped Specific Char: {stripped_data}\")"
      ],
      "metadata": {
        "id": "0_luCZIk6r9W",
        "colab": {
          "base_uri": "https://localhost:8080/"
        },
        "outputId": "82fe0b84-fcf2-4f35-ee8c-45f8aabe8062"
      },
      "execution_count": 177,
      "outputs": [
        {
          "output_type": "stream",
          "name": "stdout",
          "text": [
            "Original: '   \n",
            "\tThis text needs cleaning.   '\n",
            "Cleaned: 'This text needs cleaning.'\n",
            "Stripped Specific Char: Hello World\n"
          ]
        }
      ]
    },
    {
      "cell_type": "markdown",
      "source": [
        "# Python Conditional Statements\n",
        "\n",
        "\n",
        "*   If , elif, else statements"
      ],
      "metadata": {
        "id": "wjgI26BME9Qc"
      }
    },
    {
      "cell_type": "code",
      "source": [
        "b , a = 33 , 200\n",
        "\n",
        "# print(b>a)\n",
        "\n",
        "if b > a:\n",
        "  print(\"Entered\")\n",
        "else:\n",
        "  print('Did not entered')"
      ],
      "metadata": {
        "id": "qwjEKo2TE7sj",
        "colab": {
          "base_uri": "https://localhost:8080/"
        },
        "outputId": "5786b5c8-b9b1-41d8-9652-7487a0e85c5b"
      },
      "execution_count": 178,
      "outputs": [
        {
          "output_type": "stream",
          "name": "stdout",
          "text": [
            "Did not entered\n"
          ]
        }
      ]
    },
    {
      "cell_type": "code",
      "source": [
        "aman , vinod = 90 , 80\n",
        "\n",
        "if vinod > aman:\n",
        "  print(\"vinod scores greater than aman\")\n",
        "elif aman == vinod:\n",
        "  print(\"Both scores equally\")"
      ],
      "metadata": {
        "id": "p1umnfvmE7uk"
      },
      "execution_count": 179,
      "outputs": []
    },
    {
      "cell_type": "code",
      "source": [
        "if vinod > aman:\n",
        "  print(\"vinod scores greater than aman\")\n",
        "elif aman == vinod:\n",
        "  print(\"Both scores equally\")\n",
        "else:\n",
        "  print('aman scores greater than vinod')"
      ],
      "metadata": {
        "colab": {
          "base_uri": "https://localhost:8080/"
        },
        "id": "bzcR9vgGE7wq",
        "outputId": "de537022-071f-45ff-86d2-6688cebbd03d"
      },
      "execution_count": 180,
      "outputs": [
        {
          "output_type": "stream",
          "name": "stdout",
          "text": [
            "aman scores greater than vinod\n"
          ]
        }
      ]
    },
    {
      "cell_type": "code",
      "source": [
        "marks = 72\n",
        "\n",
        "if marks > 35:\n",
        "  print(\"He is Pass\")\n",
        "  if marks > 60:\n",
        "    print(\"He is in Distinction\")\n",
        "  else:\n",
        "    print(\"He is in Mid Range\")\n",
        "else:\n",
        "  print('Sadly, He is Fail')"
      ],
      "metadata": {
        "colab": {
          "base_uri": "https://localhost:8080/"
        },
        "id": "Wqb480gBE7yq",
        "outputId": "dd28baac-f767-4ebb-d75d-7adfc3eb46c6"
      },
      "execution_count": 181,
      "outputs": [
        {
          "output_type": "stream",
          "name": "stdout",
          "text": [
            "He is Pass\n",
            "He is in Distinction\n"
          ]
        }
      ]
    },
    {
      "cell_type": "code",
      "source": [
        "# Cell 1: Logical Operators (AND/OR)\n",
        "age = 25\n",
        "is_student = True\n",
        "\n",
        "# Check if the person is an adult (age >= 18) AND a student\n",
        "if age >= 18 and is_student:\n",
        "    print(\"Eligible for student discount.\")\n",
        "elif age >= 18 and not is_student:\n",
        "    print(\"Eligible for adult ticket.\")\n",
        "else:\n",
        "    print(\"Needs adult supervision.\")"
      ],
      "metadata": {
        "id": "6uCvQvgBE8ES",
        "colab": {
          "base_uri": "https://localhost:8080/"
        },
        "outputId": "545ab99e-f46e-44c0-a0b8-a471db124d8e"
      },
      "execution_count": 182,
      "outputs": [
        {
          "output_type": "stream",
          "name": "stdout",
          "text": [
            "Eligible for student discount.\n"
          ]
        }
      ]
    },
    {
      "cell_type": "code",
      "source": [
        "# Cell 2: Even or Odd Check (Modulo Operator)\n",
        "number = 15\n",
        "\n",
        "# The modulo operator (%) gives the remainder of a division.\n",
        "# If number % 2 is 0, the number is even.\n",
        "if number % 2 == 0:\n",
        "    print(f\"{number} is an Even number.\")\n",
        "else:\n",
        "    print(f\"{number} is an Odd number.\")"
      ],
      "metadata": {
        "id": "Q9EVE0q2E8GE",
        "colab": {
          "base_uri": "https://localhost:8080/"
        },
        "outputId": "6f07db31-4365-406e-d0c3-42f6de0d7661"
      },
      "execution_count": 183,
      "outputs": [
        {
          "output_type": "stream",
          "name": "stdout",
          "text": [
            "15 is an Odd number.\n"
          ]
        }
      ]
    }
  ]
}