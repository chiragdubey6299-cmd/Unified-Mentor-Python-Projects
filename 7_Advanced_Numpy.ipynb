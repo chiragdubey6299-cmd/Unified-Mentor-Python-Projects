{
  "nbformat": 4,
  "nbformat_minor": 0,
  "metadata": {
    "colab": {
      "provenance": [],
      "include_colab_link": true
    },
    "kernelspec": {
      "name": "python3",
      "display_name": "Python 3"
    },
    "language_info": {
      "name": "python"
    }
  },
  "cells": [
    {
      "cell_type": "markdown",
      "metadata": {
        "id": "view-in-github",
        "colab_type": "text"
      },
      "source": [
        "<a href=\"https://colab.research.google.com/github/chiragdubey6299-cmd/Unified-Mentor-Python-Projects/blob/main/7_Advanced_Numpy.ipynb\" target=\"_parent\"><img src=\"https://colab.research.google.com/assets/colab-badge.svg\" alt=\"Open In Colab\"/></a>"
      ]
    },
    {
      "cell_type": "markdown",
      "source": [
        "## Slicing arrays\n",
        "Slicing in python means taking elements from one given index to another given index.\n",
        "\n",
        "We pass slice instead of index like this: [start:end].\n",
        "\n",
        "We can also define the step, like this: [start:end:step]."
      ],
      "metadata": {
        "id": "_5CrEqY2imUg"
      }
    },
    {
      "cell_type": "code",
      "source": [
        "import numpy as np\n",
        "\n",
        "a1 = np.array([1, 2, 3, 4, 5, 6, 7])             # Slicing 1D Array\n",
        "\n",
        "print(a1[1:5])     # Slicing                                  # [start:end]\n",
        "print(a1[4])     # Indexing\n",
        "a1[:4]"
      ],
      "metadata": {
        "id": "pdWhl772g3g-",
        "colab": {
          "base_uri": "https://localhost:8080/"
        },
        "outputId": "81b93a27-e47b-4d01-a9e4-fdef2ab4457e"
      },
      "execution_count": 78,
      "outputs": [
        {
          "output_type": "stream",
          "name": "stdout",
          "text": [
            "[2 3 4 5]\n",
            "5\n"
          ]
        },
        {
          "output_type": "execute_result",
          "data": {
            "text/plain": [
              "array([1, 2, 3, 4])"
            ]
          },
          "metadata": {},
          "execution_count": 78
        }
      ]
    },
    {
      "cell_type": "code",
      "source": [
        "# print(a2)"
      ],
      "metadata": {
        "id": "tpXK4B4bfE-M"
      },
      "execution_count": 79,
      "outputs": []
    },
    {
      "cell_type": "code",
      "source": [
        "a2 = np.array([[1, 2, 3, 4, 5], [6, 7, 8, 9, 10]])      # Slicing 2D Array\n",
        "\n",
        "a2[1, 1:4]                                            # [row:column]\n",
        "a2[0:2, 2]\n",
        "# a2[1:, :5]"
      ],
      "metadata": {
        "id": "MPrCVPQdg3jM",
        "colab": {
          "base_uri": "https://localhost:8080/"
        },
        "outputId": "b3e79bf2-2425-4c2b-b15c-8be516498675"
      },
      "execution_count": 80,
      "outputs": [
        {
          "output_type": "execute_result",
          "data": {
            "text/plain": [
              "array([3, 8])"
            ]
          },
          "metadata": {},
          "execution_count": 80
        }
      ]
    },
    {
      "cell_type": "code",
      "source": [
        "a2.shape"
      ],
      "metadata": {
        "id": "TdT6aw36f8hu",
        "colab": {
          "base_uri": "https://localhost:8080/"
        },
        "outputId": "15cefbd2-f44d-4c2b-9631-d51215a36639"
      },
      "execution_count": 81,
      "outputs": [
        {
          "output_type": "execute_result",
          "data": {
            "text/plain": [
              "(2, 5)"
            ]
          },
          "metadata": {},
          "execution_count": 81
        }
      ]
    },
    {
      "cell_type": "code",
      "source": [
        "# a3.shape"
      ],
      "metadata": {
        "id": "omk5lznDf8la"
      },
      "execution_count": 82,
      "outputs": []
    },
    {
      "cell_type": "code",
      "source": [
        "a3 = np.array([[[10, 11, 12], [13, 14, 15], [16, 17, 18]],\n",
        "               [[20, 21, 22], [23, 24, 25], [26, 27, 28]],\n",
        "               [[30, 31, 32], [33, 34, 35], [36, 37, 38]]])           # # Slicing 3D Array"
      ],
      "metadata": {
        "id": "6pFBv-tXg3lU"
      },
      "execution_count": 83,
      "outputs": []
    },
    {
      "cell_type": "code",
      "source": [
        "# a3[:2,1:,:2]                                                          # [matrix:row:column]"
      ],
      "metadata": {
        "id": "sKv6yYKIg3nV"
      },
      "execution_count": 84,
      "outputs": []
    },
    {
      "cell_type": "code",
      "source": [
        "a3[:2,1:,:]"
      ],
      "metadata": {
        "colab": {
          "base_uri": "https://localhost:8080/"
        },
        "id": "yCIpXjHpm1LT",
        "outputId": "35ae6579-1f98-4a6d-9e78-0142416ad010"
      },
      "execution_count": 85,
      "outputs": [
        {
          "output_type": "execute_result",
          "data": {
            "text/plain": [
              "array([[[13, 14, 15],\n",
              "        [16, 17, 18]],\n",
              "\n",
              "       [[23, 24, 25],\n",
              "        [26, 27, 28]]])"
            ]
          },
          "metadata": {},
          "execution_count": 85
        }
      ]
    },
    {
      "cell_type": "code",
      "source": [
        "# a3[:2,1:,:2]"
      ],
      "metadata": {
        "id": "rCZViER-g3pR"
      },
      "execution_count": 86,
      "outputs": []
    },
    {
      "cell_type": "code",
      "source": [
        "import numpy as np\n",
        "result_array = np.array([\n",
        "    [[23, 24, 25],\n",
        "     [26, 27, 28]],\n",
        "\n",
        "    [[33, 34, 35],\n",
        "     [36, 37, 38]]\n",
        "])\n",
        "\n",
        "print(result_array)"
      ],
      "metadata": {
        "id": "CZBjzZ05g3rg",
        "outputId": "d61c530f-2108-4d38-efb5-ee378e448d2a",
        "colab": {
          "base_uri": "https://localhost:8080/"
        }
      },
      "execution_count": 87,
      "outputs": [
        {
          "output_type": "stream",
          "name": "stdout",
          "text": [
            "[[[23 24 25]\n",
            "  [26 27 28]]\n",
            "\n",
            " [[33 34 35]\n",
            "  [36 37 38]]]\n"
          ]
        }
      ]
    },
    {
      "cell_type": "code",
      "source": [
        "# 'resuly array' की जगह 'resultarray' लिखें\n",
        "resultarray = np.array([\n",
        "    # ... array elements here\n",
        "])"
      ],
      "metadata": {
        "id": "pRGgqDZ1g3tB"
      },
      "execution_count": 88,
      "outputs": []
    },
    {
      "cell_type": "markdown",
      "source": [
        "# View vs Copy\n",
        "\n",
        "Copy is a new array, and the View is just a view of the original array.\n",
        "\n",
        "Any changes made to the **copy** will not affect original array.\n",
        "\n",
        "Any changes made to the **view** will affect the original array."
      ],
      "metadata": {
        "id": "kwge9Pl45-gI"
      }
    },
    {
      "cell_type": "code",
      "source": [
        "arr = np.array([1, 2, 3, 4, 5])\n",
        "\n",
        "# Copy Method\n",
        "\n",
        "copy = arr.copy()\n",
        "copy[0] = 42\n",
        "\n",
        "print(arr)\n",
        "print(copy)"
      ],
      "metadata": {
        "id": "Ozoy9Dt_g3wD",
        "colab": {
          "base_uri": "https://localhost:8080/"
        },
        "outputId": "6b2c2f2b-5c69-4040-cbde-163d04549503"
      },
      "execution_count": 89,
      "outputs": [
        {
          "output_type": "stream",
          "name": "stdout",
          "text": [
            "[1 2 3 4 5]\n",
            "[42  2  3  4  5]\n"
          ]
        }
      ]
    },
    {
      "cell_type": "code",
      "source": [
        "arr = np.array([1, 2, 3, 4, 5])\n",
        "copy = arr.copy()\n",
        "copy[0] = 42\n",
        "print(arr)\n",
        "print(copy)"
      ],
      "metadata": {
        "id": "q8-l86P-sryy",
        "outputId": "d15c9623-a8e9-4c56-d923-01ee77aa2c78",
        "colab": {
          "base_uri": "https://localhost:8080/"
        }
      },
      "execution_count": 90,
      "outputs": [
        {
          "output_type": "stream",
          "name": "stdout",
          "text": [
            "[1 2 3 4 5]\n",
            "[42  2  3  4  5]\n"
          ]
        }
      ]
    },
    {
      "cell_type": "code",
      "source": [
        "# View Method\n",
        "\n",
        "view = arr.view()\n",
        "view[0] = 42\n",
        "\n",
        "print(arr)\n",
        "print(view)"
      ],
      "metadata": {
        "id": "Ayrq2SoW740N",
        "colab": {
          "base_uri": "https://localhost:8080/"
        },
        "outputId": "57a731d4-4bbe-4f0a-d1d4-9a08ee9bdd3c"
      },
      "execution_count": 91,
      "outputs": [
        {
          "output_type": "stream",
          "name": "stdout",
          "text": [
            "[42  2  3  4  5]\n",
            "[42  2  3  4  5]\n"
          ]
        }
      ]
    },
    {
      "cell_type": "code",
      "source": [
        "\n",
        "view = arr.view()\n",
        "view[0] = 42\n",
        "\n",
        "print(arr)\n",
        "print(view)"
      ],
      "metadata": {
        "id": "37qxM78675As",
        "outputId": "ad8f609e-29b6-45f5-e7ec-f3e6f54c6553",
        "colab": {
          "base_uri": "https://localhost:8080/"
        }
      },
      "execution_count": 92,
      "outputs": [
        {
          "output_type": "stream",
          "name": "stdout",
          "text": [
            "[42  2  3  4  5]\n",
            "[42  2  3  4  5]\n"
          ]
        }
      ]
    },
    {
      "cell_type": "code",
      "source": [
        "\n",
        "print(\"view.base is:\")\n",
        "print(view.base)\n",
        "\n",
        "\n",
        "print(\"\\ncopy.base is:\")\n",
        "print(copy.base)"
      ],
      "metadata": {
        "id": "Jv7goZnh75MU",
        "outputId": "951d4405-b5d8-472c-93dc-c37fb3d18e91",
        "colab": {
          "base_uri": "https://localhost:8080/"
        }
      },
      "execution_count": 93,
      "outputs": [
        {
          "output_type": "stream",
          "name": "stdout",
          "text": [
            "view.base is:\n",
            "[42  2  3  4  5]\n",
            "\n",
            "copy.base is:\n",
            "None\n"
          ]
        }
      ]
    },
    {
      "cell_type": "code",
      "source": [
        "\n",
        "arr_slice_test = np.array([50, 60, 70, 80])\n",
        "slice_view = arr_slice_test[1:3]\n",
        "\n",
        "slice_view[0] = 600\n",
        "\n",
        "print(\"\\nAfter modifying the slice_view:\")\n",
        "print(\"arr_slice_test (Original):\", arr_slice_test)\n",
        "print(\"slice_view:\", slice_view)"
      ],
      "metadata": {
        "id": "AsJD0IWMBJRP",
        "outputId": "ca85b44f-6bbb-43ea-c366-e430089778d6",
        "colab": {
          "base_uri": "https://localhost:8080/"
        }
      },
      "execution_count": 94,
      "outputs": [
        {
          "output_type": "stream",
          "name": "stdout",
          "text": [
            "\n",
            "After modifying the slice_view:\n",
            "arr_slice_test (Original): [ 50 600  70  80]\n",
            "slice_view: [600  70]\n"
          ]
        }
      ]
    },
    {
      "cell_type": "markdown",
      "source": [
        "# Append , Insert and Delete Operations"
      ],
      "metadata": {
        "id": "LYmG8dHtPIF8"
      }
    },
    {
      "cell_type": "code",
      "source": [
        "a = np.array([[1,2,3],\n",
        "              [4,5,6]])\n",
        "a.shape\n",
        "# Append Method\n",
        "\n",
        "np.append(a, [7,8,9])\n",
        "np.append(a, [[7,8,9]],axis = 0)                # axis = 0 = row , axis = 1 = col\n",
        "np.append(a, [[5],[8]],axis = 1)"
      ],
      "metadata": {
        "id": "Y5K3wky1BJTa",
        "colab": {
          "base_uri": "https://localhost:8080/"
        },
        "outputId": "44d0d06d-0ad5-442c-fe37-30632d51843f"
      },
      "execution_count": 95,
      "outputs": [
        {
          "output_type": "execute_result",
          "data": {
            "text/plain": [
              "array([[1, 2, 3, 5],\n",
              "       [4, 5, 6, 8]])"
            ]
          },
          "metadata": {},
          "execution_count": 95
        }
      ]
    },
    {
      "cell_type": "code",
      "source": [
        "import numpy as np\n",
        "a = np.array([[1, 2, 3],\n",
        "              [4, 5, 6]])"
      ],
      "metadata": {
        "id": "YEL9lATVujCu"
      },
      "execution_count": 96,
      "outputs": []
    },
    {
      "cell_type": "code",
      "source": [
        "\n",
        "\n",
        "print(\"Original Array 'a':\\n\", a)\n",
        "c_delete_row = np.delete(a, 1, axis=0)\n",
        "print(\"\\nAfter np.delete(a, 1, axis=0) - Deleting Row 1:\\n\", c_delete_row)\n",
        "c_delete_col = np.delete(a, 0, axis=1)\n",
        "print(\"\\nAfter np.delete(a, 0, axis=1) - Deleting Column 0:\\n\", c_delete_col)"
      ],
      "metadata": {
        "id": "pRjS_0S0ujNa",
        "outputId": "80f76b11-d417-4ab5-fc4f-c5b989f743ac",
        "colab": {
          "base_uri": "https://localhost:8080/"
        }
      },
      "execution_count": 97,
      "outputs": [
        {
          "output_type": "stream",
          "name": "stdout",
          "text": [
            "Original Array 'a':\n",
            " [[1 2 3]\n",
            " [4 5 6]]\n",
            "\n",
            "After np.delete(a, 1, axis=0) - Deleting Row 1:\n",
            " [[1 2 3]]\n",
            "\n",
            "After np.delete(a, 0, axis=1) - Deleting Column 0:\n",
            " [[2 3]\n",
            " [5 6]]\n"
          ]
        }
      ]
    },
    {
      "cell_type": "code",
      "source": [
        "a = np.array([[1,2],\n",
        "              [3,4],\n",
        "              [5,6]])\n",
        "\n",
        "# Insert Method\n",
        "\n",
        "np.insert(a,3,[11,12])\n",
        "np.insert(a,1,[11,12],axis = 0)\n",
        "# np.insert(a,1,[11,12,13],axis = 1)"
      ],
      "metadata": {
        "id": "TPOzFwGTPQSl",
        "colab": {
          "base_uri": "https://localhost:8080/"
        },
        "outputId": "87d288a5-dcb2-421a-cdee-1cf459b66de9"
      },
      "execution_count": 98,
      "outputs": [
        {
          "output_type": "execute_result",
          "data": {
            "text/plain": [
              "array([[ 1,  2],\n",
              "       [11, 12],\n",
              "       [ 3,  4],\n",
              "       [ 5,  6]])"
            ]
          },
          "metadata": {},
          "execution_count": 98
        }
      ]
    },
    {
      "cell_type": "code",
      "source": [
        "print(\"Original Array 'a':\\n\", a)\n",
        "\n",
        "# axis=0 (Row) पर Append करना: अब values में 2 items हैं जो array 'a' के 2 columns से मेल खाते हैं।\n",
        "# [[7, 8]] का shape (1, 2) है।\n",
        "a_appended_row = np.append(a, [[7, 8]], axis=0)\n",
        "\n",
        "print(\"\\nAfter np.append(a, [[7, 8]], axis=0) - Appending Row:\\n\", a_appended_row)"
      ],
      "metadata": {
        "id": "7rfnh_KmwUpO",
        "outputId": "41ff3c2a-8d0f-44f1-8c2f-48631ff60589",
        "colab": {
          "base_uri": "https://localhost:8080/"
        }
      },
      "execution_count": 99,
      "outputs": [
        {
          "output_type": "stream",
          "name": "stdout",
          "text": [
            "Original Array 'a':\n",
            " [[1 2]\n",
            " [3 4]\n",
            " [5 6]]\n",
            "\n",
            "After np.append(a, [[7, 8]], axis=0) - Appending Row:\n",
            " [[1 2]\n",
            " [3 4]\n",
            " [5 6]\n",
            " [7 8]]\n"
          ]
        }
      ]
    },
    {
      "cell_type": "code",
      "source": [
        "\n",
        "print(\"Original Array 'a':\\n\", a)\n",
        "a_deleted_row = np.delete(a, 1, axis=0)\n",
        "print(\"\\nAfter np.delete(a, 1, axis=0) - Deleting Row 1:\\n\", a_deleted_row)\n",
        "a_deleted_col = np.delete(a, 0, axis=1)\n",
        "print(\"\\nAfter np.delete(a, 0, axis=1) - Deleting Column 0:\\n\", a_deleted_col)"
      ],
      "metadata": {
        "id": "Q6qD5F6ewUs0",
        "outputId": "c71b109a-f48d-45ed-b62c-5e61c991dcaa",
        "colab": {
          "base_uri": "https://localhost:8080/"
        }
      },
      "execution_count": 100,
      "outputs": [
        {
          "output_type": "stream",
          "name": "stdout",
          "text": [
            "Original Array 'a':\n",
            " [[1 2]\n",
            " [3 4]\n",
            " [5 6]]\n",
            "\n",
            "After np.delete(a, 1, axis=0) - Deleting Row 1:\n",
            " [[1 2]\n",
            " [5 6]]\n",
            "\n",
            "After np.delete(a, 0, axis=1) - Deleting Column 0:\n",
            " [[2]\n",
            " [4]\n",
            " [6]]\n"
          ]
        }
      ]
    },
    {
      "cell_type": "code",
      "source": [
        "a = np.array([[ 1,  2,  3, 12],\n",
        "              [ 9,  5,  6,  11],\n",
        "              [ 8,  4, 10, 7]])\n",
        "\n",
        "# Delete Method\n",
        "\n",
        "# np.delete(a,4)\n",
        "# np.delete(a,1,axis = 1)\n",
        "np.delete(a,1,axis = 0)"
      ],
      "metadata": {
        "id": "n_3V0lt7PQU1",
        "colab": {
          "base_uri": "https://localhost:8080/"
        },
        "outputId": "8460b69f-6ed5-48ee-e18e-295e553df1cf"
      },
      "execution_count": 101,
      "outputs": [
        {
          "output_type": "execute_result",
          "data": {
            "text/plain": [
              "array([[ 1,  2,  3, 12],\n",
              "       [ 8,  4, 10,  7]])"
            ]
          },
          "metadata": {},
          "execution_count": 101
        }
      ]
    },
    {
      "cell_type": "code",
      "source": [
        "# np.ndim(a)"
      ],
      "metadata": {
        "id": "rdE7TUaDPQZ4"
      },
      "execution_count": 102,
      "outputs": []
    },
    {
      "cell_type": "code",
      "source": [
        "\n",
        "print(\"Array Shape (Rows, Columns):\", a.shape)\n",
        "print(\"Array Size ):\", a.size)"
      ],
      "metadata": {
        "id": "whS_RV9cPQis",
        "outputId": "046bcdf1-40db-4c91-a20d-ba504195884c",
        "colab": {
          "base_uri": "https://localhost:8080/"
        }
      },
      "execution_count": 103,
      "outputs": [
        {
          "output_type": "stream",
          "name": "stdout",
          "text": [
            "Array Shape (Rows, Columns): (3, 4)\n",
            "Array Size ): 12\n"
          ]
        }
      ]
    },
    {
      "cell_type": "code",
      "source": [
        "\n",
        "print(\" Datatype:\", a.dtype)\n",
        "print(\" Bytes:\", a.itemsize)"
      ],
      "metadata": {
        "id": "RhURBzwzPQk-",
        "outputId": "3b7f0cf5-0296-4b19-9824-99266f3c38d2",
        "colab": {
          "base_uri": "https://localhost:8080/"
        }
      },
      "execution_count": 104,
      "outputs": [
        {
          "output_type": "stream",
          "name": "stdout",
          "text": [
            " Datatype: int64\n",
            " Bytes: 8\n"
          ]
        }
      ]
    },
    {
      "cell_type": "markdown",
      "source": [
        "# Hstack vs Vstack\n",
        "\n",
        "Hstack is used to join two arrays **Horizontally**.\n",
        "\n",
        "Vstack is used to join two arrays **Vertically**.\n"
      ],
      "metadata": {
        "id": "k7DcE6R1BKfX"
      }
    },
    {
      "cell_type": "code",
      "source": [
        "import numpy as np"
      ],
      "metadata": {
        "id": "ANnI5Qaonnwp"
      },
      "execution_count": 105,
      "outputs": []
    },
    {
      "cell_type": "code",
      "source": [
        "a = np.array([1, 2, 3])\n",
        "b = np.array([4, 5, 6])"
      ],
      "metadata": {
        "id": "9siOHvOXBJVi"
      },
      "execution_count": 106,
      "outputs": []
    },
    {
      "cell_type": "code",
      "source": [
        "print(a,b)\n",
        "print(np.ndim(a), np.ndim(b))"
      ],
      "metadata": {
        "id": "psDC18pQBJXo",
        "colab": {
          "base_uri": "https://localhost:8080/"
        },
        "outputId": "542eae4b-e61c-4aab-f557-7562cbad8c49"
      },
      "execution_count": 107,
      "outputs": [
        {
          "output_type": "stream",
          "name": "stdout",
          "text": [
            "[1 2 3] [4 5 6]\n",
            "1 1\n"
          ]
        }
      ]
    },
    {
      "cell_type": "code",
      "source": [
        "# Performing Hstack\n",
        "\n",
        "result = np.hstack((a,b))\n",
        "\n",
        "print(result)\n",
        "print(np.ndim(result))"
      ],
      "metadata": {
        "id": "s88-QDBBBJZ6",
        "colab": {
          "base_uri": "https://localhost:8080/"
        },
        "outputId": "42e97229-e4d0-4c34-b9be-dc48bbc7e39c"
      },
      "execution_count": 108,
      "outputs": [
        {
          "output_type": "stream",
          "name": "stdout",
          "text": [
            "[1 2 3 4 5 6]\n",
            "1\n"
          ]
        }
      ]
    },
    {
      "cell_type": "code",
      "source": [
        "# Performing Vstack\n",
        "\n",
        "result = np.vstack((a,b))\n",
        "\n",
        "print(result, np.ndim(result))"
      ],
      "metadata": {
        "id": "4NU5OftUDl5h",
        "colab": {
          "base_uri": "https://localhost:8080/"
        },
        "outputId": "fee25a84-d932-4ffb-8b63-2e94bc7063c6"
      },
      "execution_count": 109,
      "outputs": [
        {
          "output_type": "stream",
          "name": "stdout",
          "text": [
            "[[1 2 3]\n",
            " [4 5 6]] 2\n"
          ]
        }
      ]
    },
    {
      "cell_type": "code",
      "source": [
        "import numpy as np\n",
        "a = np.array([1, 2, 3])\n",
        "b = np.array([4, 5, 6])"
      ],
      "metadata": {
        "id": "rXXsBsxUDl78"
      },
      "execution_count": 110,
      "outputs": []
    },
    {
      "cell_type": "code",
      "source": [
        "\n",
        "result_stack_0 = np.stack((a, b), axis=0)\n",
        "print(\"Stack (axis=0):\\n\", result_stack_0)\n",
        "print(\"Dimension (ndim):\", np.ndim(result_stack_0))\n",
        "result_stack_1 = np.stack((a, b), axis=1)\n",
        "print(\"\\nStack (axis=1):\\n\", result_stack_1)\n",
        "print(\"Dimension (ndim):\", np.ndim(result_stack_1))"
      ],
      "metadata": {
        "id": "IS_KHhWbDl-t",
        "outputId": "eec5a8c8-157d-4f53-9951-3bd43c7247a9",
        "colab": {
          "base_uri": "https://localhost:8080/"
        }
      },
      "execution_count": 111,
      "outputs": [
        {
          "output_type": "stream",
          "name": "stdout",
          "text": [
            "Stack (axis=0):\n",
            " [[1 2 3]\n",
            " [4 5 6]]\n",
            "Dimension (ndim): 2\n",
            "\n",
            "Stack (axis=1):\n",
            " [[1 4]\n",
            " [2 5]\n",
            " [3 6]]\n",
            "Dimension (ndim): 2\n"
          ]
        }
      ]
    },
    {
      "cell_type": "code",
      "source": [
        "\n",
        "c = np.array([1, 2, 3, 4, 5, 6])\n",
        "print(\"Original Array 'c':\", c)\n",
        "result_split_equal = np.split(c, 3)\n",
        "print(\"\\nSplit into 3 equal parts:\", result_split_equal)\n",
        "result_split_unequal = np.split(c, [2, 5])\n",
        "print(\"\\nSplit at indices [2, 5]:\", result_split_unequal)"
      ],
      "metadata": {
        "id": "-hbic_I5DmBq",
        "outputId": "5a0d418a-d327-4729-ea2a-39b4f28e26c4",
        "colab": {
          "base_uri": "https://localhost:8080/"
        }
      },
      "execution_count": 112,
      "outputs": [
        {
          "output_type": "stream",
          "name": "stdout",
          "text": [
            "Original Array 'c': [1 2 3 4 5 6]\n",
            "\n",
            "Split into 3 equal parts: [array([1, 2]), array([3, 4]), array([5, 6])]\n",
            "\n",
            "Split at indices [2, 5]: [array([1, 2]), array([3, 4, 5]), array([6])]\n"
          ]
        }
      ]
    },
    {
      "cell_type": "markdown",
      "source": [
        "# Numpy Concatenation\n",
        "\n",
        "It is used for joining two or more arrays of the same shape along a specified axis.\n",
        "\n",
        "Axis = 0, Adding new rows\n",
        "\n",
        "Axis = 1, Adding new columns\n"
      ],
      "metadata": {
        "id": "Mh1rrauKETDN"
      }
    },
    {
      "cell_type": "code",
      "source": [
        "arr1 = np.array([[2, 4], [6, 8]])\n",
        "arr2 = np.array([[3, 5], [7, 9]])\n",
        "\n",
        "# print(arr1.shape,arr2.shape)\n",
        "\n",
        "arr3 = np.array([[3], [9]])\n",
        "arr4 = np.array([[4] , [8]])\n",
        "\n",
        "print(arr3.shape,arr4.shape)\n",
        "\n",
        "new = np.concatenate((arr1, arr2), axis = 0)\n",
        "\n",
        "# print(new, new.shape)"
      ],
      "metadata": {
        "id": "YjMeNhqJEmO7",
        "colab": {
          "base_uri": "https://localhost:8080/"
        },
        "outputId": "aaeceb26-169b-4e7e-a698-3d5a24188507"
      },
      "execution_count": 113,
      "outputs": [
        {
          "output_type": "stream",
          "name": "stdout",
          "text": [
            "(2, 1) (2, 1)\n"
          ]
        }
      ]
    },
    {
      "cell_type": "code",
      "source": [
        "new = np.concatenate((arr3, arr4), axis = 1)\n",
        "\n",
        "print(new)"
      ],
      "metadata": {
        "id": "jcrws4QsHPQV",
        "colab": {
          "base_uri": "https://localhost:8080/"
        },
        "outputId": "7958a27c-b53f-4f4d-96fc-5e51f8636279"
      },
      "execution_count": 114,
      "outputs": [
        {
          "output_type": "stream",
          "name": "stdout",
          "text": [
            "[[3 4]\n",
            " [9 8]]\n"
          ]
        }
      ]
    },
    {
      "cell_type": "code",
      "source": [
        "arr3 = np.array([[3], [9]])\n",
        "arr4 = np.array([[4], [8]])"
      ],
      "metadata": {
        "id": "b45Rtjh_HPTe"
      },
      "execution_count": 115,
      "outputs": []
    },
    {
      "cell_type": "code",
      "source": [
        "\n",
        "hstack_result = np.hstack((arr3, arr4))\n",
        "\n",
        "print(\"np.hstack(arr3, arr4):\")\n",
        "print(hstack_result)\n",
        "print(\"\\nNew Array Shape:\", hstack_result.shape)"
      ],
      "metadata": {
        "id": "5-s_jRJNHPWI",
        "outputId": "cd4404fe-be2c-4f70-c29a-6149e9339b88",
        "colab": {
          "base_uri": "https://localhost:8080/"
        }
      },
      "execution_count": 116,
      "outputs": [
        {
          "output_type": "stream",
          "name": "stdout",
          "text": [
            "np.hstack(arr3, arr4):\n",
            "[[3 4]\n",
            " [9 8]]\n",
            "\n",
            "New Array Shape: (2, 2)\n"
          ]
        }
      ]
    }
  ]
}