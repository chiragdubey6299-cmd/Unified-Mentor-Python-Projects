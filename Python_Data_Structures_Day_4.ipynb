{
  "nbformat": 4,
  "nbformat_minor": 0,
  "metadata": {
    "colab": {
      "provenance": [],
      "include_colab_link": true
    },
    "kernelspec": {
      "name": "python3",
      "display_name": "Python 3"
    },
    "language_info": {
      "name": "python"
    }
  },
  "cells": [
    {
      "cell_type": "markdown",
      "metadata": {
        "id": "view-in-github",
        "colab_type": "text"
      },
      "source": [
        "<a href=\"https://colab.research.google.com/github/chiragdubey6299-cmd/Unified-Mentor-Python-Projects/blob/main/Python_Data_Structures_Day_4.ipynb\" target=\"_parent\"><img src=\"https://colab.research.google.com/assets/colab-badge.svg\" alt=\"Open In Colab\"/></a>"
      ]
    },
    {
      "cell_type": "markdown",
      "source": [
        "# Tuple\n",
        "They are used to store multiple items in a single variable.\n",
        "\n",
        "A tuple is a collection which is ordered and unchangeable.\n",
        "It is written with round brackets."
      ],
      "metadata": {
        "id": "gZpXksJpDhuW"
      }
    },
    {
      "cell_type": "code",
      "source": [
        "fruits = (\"apple\", \"banana\", \"cherry\")                           # Standard Method\n",
        "print(fruits)"
      ],
      "metadata": {
        "colab": {
          "base_uri": "https://localhost:8080/"
        },
        "id": "Iqd80mJHDU6O",
        "outputId": "39be703d-84ea-4a3f-9436-982e9b3ceec5"
      },
      "execution_count": 12,
      "outputs": [
        {
          "output_type": "stream",
          "name": "stdout",
          "text": [
            "('apple', 'banana', 'cherry')\n"
          ]
        }
      ]
    },
    {
      "cell_type": "code",
      "source": [
        "ints = tuple([1,2,3,4,5,9,7,2,0])                                 # Function Method"
      ],
      "metadata": {
        "id": "WBGIsRXo6hqL"
      },
      "execution_count": 13,
      "outputs": []
    },
    {
      "cell_type": "code",
      "source": [
        "ints"
      ],
      "metadata": {
        "colab": {
          "base_uri": "https://localhost:8080/"
        },
        "id": "A7XgimGxT191",
        "outputId": "816c6548-2a7b-4665-bc9f-63ad46fe43e9"
      },
      "execution_count": 14,
      "outputs": [
        {
          "output_type": "execute_result",
          "data": {
            "text/plain": [
              "(1, 2, 3, 4, 5, 9, 7, 2, 0)"
            ]
          },
          "metadata": {},
          "execution_count": 14
        }
      ]
    },
    {
      "cell_type": "code",
      "source": [
        "fruits = (\"apple\", \"banana\", \"cherry\",\"banana\")                  # Allows Duplicates\n",
        "print(fruits)"
      ],
      "metadata": {
        "colab": {
          "base_uri": "https://localhost:8080/"
        },
        "id": "qY886OHhDU7b",
        "outputId": "e3fd75ed-7ebd-41c9-e80a-a1f58c4f8023"
      },
      "execution_count": 15,
      "outputs": [
        {
          "output_type": "stream",
          "name": "stdout",
          "text": [
            "('apple', 'banana', 'cherry', 'banana')\n"
          ]
        }
      ]
    },
    {
      "cell_type": "code",
      "source": [
        "# Count() Method\n",
        "\n",
        "nums = (1, 3, 7, 8, 7, 5, 4, 6, 8, 5)\n",
        "\n",
        "nums.count(6)"
      ],
      "metadata": {
        "colab": {
          "base_uri": "https://localhost:8080/"
        },
        "id": "Nd0TN_oGDU-E",
        "outputId": "bc9d4724-002d-4f0f-eebf-dda956ef22a0"
      },
      "execution_count": 16,
      "outputs": [
        {
          "output_type": "execute_result",
          "data": {
            "text/plain": [
              "1"
            ]
          },
          "metadata": {},
          "execution_count": 16
        }
      ]
    },
    {
      "cell_type": "code",
      "source": [
        "# Index() Method\n",
        "\n",
        "nums = (1, 3, 7, 8, 7, 5, 4, 6, 8, 5)\n",
        "\n",
        "nums.index(5)"
      ],
      "metadata": {
        "colab": {
          "base_uri": "https://localhost:8080/"
        },
        "id": "l__lbM1FDU_K",
        "outputId": "15e03e18-dfee-4307-f430-ce875bd321e4"
      },
      "execution_count": 17,
      "outputs": [
        {
          "output_type": "execute_result",
          "data": {
            "text/plain": [
              "5"
            ]
          },
          "metadata": {},
          "execution_count": 17
        }
      ]
    },
    {
      "cell_type": "code",
      "source": [
        "# Min() & Max() Method\n",
        "\n",
        "nums = (1, 3, 7, 99, 7, 5, 4, 6, 8, 5)\n",
        "\n",
        "min(nums)\n",
        "# max(nums)"
      ],
      "metadata": {
        "colab": {
          "base_uri": "https://localhost:8080/"
        },
        "id": "teP82ThiDVDq",
        "outputId": "76c48c50-d643-430d-d574-d57afb723bac"
      },
      "execution_count": 18,
      "outputs": [
        {
          "output_type": "execute_result",
          "data": {
            "text/plain": [
              "1"
            ]
          },
          "metadata": {},
          "execution_count": 18
        }
      ]
    },
    {
      "cell_type": "code",
      "source": [
        "# Accessing Elements and Slicing a Tuple\n",
        "\n",
        "nums = (1, 3, 7, 99, 7, 5, 4, 6, 8, 5) # Reusing a tuple from above\n",
        "\n",
        "# Get the first element\n",
        "print(nums[0])\n",
        "\n",
        "# Get a slice of the tuple (elements from index 2 up to, but not including, 5)\n",
        "print(nums[2:5])"
      ],
      "metadata": {
        "id": "WJHglZrBDVEx",
        "outputId": "41ed2a13-3a2d-4056-d685-20beef4bd541",
        "colab": {
          "base_uri": "https://localhost:8080/"
        }
      },
      "execution_count": 19,
      "outputs": [
        {
          "output_type": "stream",
          "name": "stdout",
          "text": [
            "1\n",
            "(7, 99, 7)\n"
          ]
        }
      ]
    },
    {
      "cell_type": "code",
      "source": [
        "# Tuple Unpacking\n",
        "\n",
        "coordinates = (10, 25)\n",
        "\n",
        "# Unpack the tuple into two variables\n",
        "x, y = coordinates\n",
        "\n",
        "print(f\"X coordinate is: {x}\")\n",
        "print(f\"Y coordinate is: {y}\")"
      ],
      "metadata": {
        "id": "V02MFe3NDVHw",
        "outputId": "ccfddd77-7a83-4a80-bbd7-8328c707724a",
        "colab": {
          "base_uri": "https://localhost:8080/"
        }
      },
      "execution_count": 20,
      "outputs": [
        {
          "output_type": "stream",
          "name": "stdout",
          "text": [
            "X coordinate is: 10\n",
            "Y coordinate is: 25\n"
          ]
        }
      ]
    },
    {
      "cell_type": "code",
      "source": [
        "# Check for Membership (The 'in' Operator)\n",
        "\n",
        "fruits = ('apple', 'banana', 'cherry', 'orange')\n",
        "\n",
        "# Check if 'banana' is in the tuple\n",
        "print('banana' in fruits)\n",
        "\n",
        "# Check if 'grape' is NOT in the tuple\n",
        "print('grape' not in fruits)"
      ],
      "metadata": {
        "id": "rR9NWQyrDVMy",
        "outputId": "6c894ff2-7fe9-42e7-a2d7-725a0448e106",
        "colab": {
          "base_uri": "https://localhost:8080/"
        }
      },
      "execution_count": 21,
      "outputs": [
        {
          "output_type": "stream",
          "name": "stdout",
          "text": [
            "True\n",
            "True\n"
          ]
        }
      ]
    },
    {
      "cell_type": "markdown",
      "source": [
        "# Dictionary\n",
        "Dictionaries are used to store data values in key:value pairs.\n",
        "\n",
        "A dictionary is a collection which is ordered*, changeable and do not allow duplicates."
      ],
      "metadata": {
        "id": "LCiQCPXMHUCY"
      }
    },
    {
      "cell_type": "code",
      "source": [
        "car = {\"brand\": \"Ford\",\"model\": \"Mustang\",\"year\": 1964}\n",
        "\n",
        "# # Get() Method\n",
        "car.get(\"year\")\n",
        "\n",
        "# # items() Method\n",
        "car.items()\n",
        "\n",
        "# # key() Method\n",
        "car.keys()\n",
        "\n",
        "# # values() Method\n",
        "car.values()"
      ],
      "metadata": {
        "colab": {
          "base_uri": "https://localhost:8080/"
        },
        "id": "j9SIaZ1tHlRH",
        "outputId": "b9e7db25-b61a-481f-8102-5ea22f6ddc4d"
      },
      "execution_count": 22,
      "outputs": [
        {
          "output_type": "execute_result",
          "data": {
            "text/plain": [
              "dict_values(['Ford', 'Mustang', 1964])"
            ]
          },
          "metadata": {},
          "execution_count": 22
        }
      ]
    },
    {
      "cell_type": "code",
      "source": [
        "# pop() Method\n",
        "# car\n",
        "car.pop(\"year\")\n",
        "print(car)\n",
        "\n",
        "# popitem() Method\n",
        "\n",
        "car.popitem()\n",
        "print(car)"
      ],
      "metadata": {
        "id": "RDfpSdd3IfS3",
        "colab": {
          "base_uri": "https://localhost:8080/"
        },
        "outputId": "d54ce515-d2d4-489d-b697-c72ab09e7477"
      },
      "execution_count": 23,
      "outputs": [
        {
          "output_type": "stream",
          "name": "stdout",
          "text": [
            "{'brand': 'Ford', 'model': 'Mustang'}\n",
            "{'brand': 'Ford'}\n"
          ]
        }
      ]
    },
    {
      "cell_type": "code",
      "source": [
        "\n",
        "car = {\"brand\": \"Ford\", \"model\": \"Mustang\", \"year\": 1964}\n",
        "\n",
        "# Add & Update Items\n",
        "\n",
        "car['color'] = 'Red'  # Adding a new item\n",
        "print(car)\n",
        "\n",
        "# Update the value of an existing key\n",
        "car['model'] = 'Mustang GT'\n",
        "print(car)"
      ],
      "metadata": {
        "id": "pW_ij1b2_fdU",
        "outputId": "18700bb3-1afd-410e-bf6b-15316975c573",
        "colab": {
          "base_uri": "https://localhost:8080/"
        }
      },
      "execution_count": 24,
      "outputs": [
        {
          "output_type": "stream",
          "name": "stdout",
          "text": [
            "{'brand': 'Ford', 'model': 'Mustang', 'year': 1964, 'color': 'Red'}\n",
            "{'brand': 'Ford', 'model': 'Mustang GT', 'year': 1964, 'color': 'Red'}\n"
          ]
        }
      ]
    },
    {
      "cell_type": "code",
      "source": [
        "\n",
        "\n",
        "coordinates = (10, 25)\n",
        "\n",
        "# Unpack the tuple into two variables\n",
        "x, y = coordinates\n",
        "\n",
        "print(f\"X coordinate is: {x}\")\n",
        "print(f\"Y coordinate is: {y}\")"
      ],
      "metadata": {
        "id": "2eTVgnuh_fgp",
        "outputId": "ee97c29c-1b9c-46af-a010-10e8a17fd6f8",
        "colab": {
          "base_uri": "https://localhost:8080/"
        }
      },
      "execution_count": 25,
      "outputs": [
        {
          "output_type": "stream",
          "name": "stdout",
          "text": [
            "X coordinate is: 10\n",
            "Y coordinate is: 25\n"
          ]
        }
      ]
    },
    {
      "cell_type": "code",
      "source": [
        "# update() Method\n",
        "\n",
        "car.update({\"color\": \"White\"})\n",
        "print(car)"
      ],
      "metadata": {
        "colab": {
          "base_uri": "https://localhost:8080/"
        },
        "id": "dO9J8a-IIfVH",
        "outputId": "87bf6f64-99a5-4af9-8f01-997be8c73467"
      },
      "execution_count": 26,
      "outputs": [
        {
          "output_type": "stream",
          "name": "stdout",
          "text": [
            "{'brand': 'Ford', 'model': 'Mustang GT', 'year': 1964, 'color': 'White'}\n"
          ]
        }
      ]
    },
    {
      "cell_type": "code",
      "source": [
        "car"
      ],
      "metadata": {
        "colab": {
          "base_uri": "https://localhost:8080/"
        },
        "id": "j2tgmm9TBxOB",
        "outputId": "71b138a5-22de-48f4-9183-87087da6d1e8"
      },
      "execution_count": 27,
      "outputs": [
        {
          "output_type": "execute_result",
          "data": {
            "text/plain": [
              "{'brand': 'Ford', 'model': 'Mustang GT', 'year': 1964, 'color': 'White'}"
            ]
          },
          "metadata": {},
          "execution_count": 27
        }
      ]
    },
    {
      "cell_type": "code",
      "source": [
        "# clear() Method\n",
        "\n",
        "car.clear()\n",
        "# print(car)"
      ],
      "metadata": {
        "id": "IFrOPO54Ifc2"
      },
      "execution_count": 28,
      "outputs": []
    },
    {
      "cell_type": "code",
      "source": [
        "car"
      ],
      "metadata": {
        "colab": {
          "base_uri": "https://localhost:8080/"
        },
        "id": "qUJPAE08IffH",
        "outputId": "0f92ed07-326c-4898-d51c-059b37216b11"
      },
      "execution_count": 29,
      "outputs": [
        {
          "output_type": "execute_result",
          "data": {
            "text/plain": [
              "{}"
            ]
          },
          "metadata": {},
          "execution_count": 29
        }
      ]
    },
    {
      "cell_type": "code",
      "source": [
        "# 1. Introduction to Sets\n",
        "\n",
        "# Sets are unordered, unindexed, and do not allow duplicate values.\n",
        "# They are written with curly brackets {}.\n",
        "\n",
        "my_set = {\"apple\", \"banana\", \"cherry\", \"apple\", \"banana\"}\n",
        "print(my_set)\n",
        "print(f\"Type of my_set: {type(my_set)}\")\n",
        "\n",
        "# Expected Output: {'apple', 'cherry', 'banana'} (Order may vary)\n",
        "# Expected Type: <class 'set'>"
      ],
      "metadata": {
        "id": "sqAYKQzQIfhN",
        "outputId": "e4c021c2-82c1-4cb8-f5c3-a086cce79ed4",
        "colab": {
          "base_uri": "https://localhost:8080/"
        }
      },
      "execution_count": 30,
      "outputs": [
        {
          "output_type": "stream",
          "name": "stdout",
          "text": [
            "{'cherry', 'apple', 'banana'}\n",
            "Type of my_set: <class 'set'>\n"
          ]
        }
      ]
    },
    {
      "cell_type": "code",
      "source": [
        "# 2. Add and Remove Items\n",
        "\n",
        "# Add an element using add()\n",
        "my_set.add(\"orange\")\n",
        "print(f\"After adding 'orange': {my_set}\")\n",
        "\n",
        "# Remove an element using remove()\n",
        "# Note: Using remove() will raise an error if the item is not found.\n",
        "my_set.remove(\"banana\")\n",
        "print(f\"After removing 'banana': {my_set}\")"
      ],
      "metadata": {
        "id": "z77jEOQBIfip",
        "outputId": "0ac5362c-4cf3-42e7-8022-da6ffe5942a6",
        "colab": {
          "base_uri": "https://localhost:8080/"
        }
      },
      "execution_count": 31,
      "outputs": [
        {
          "output_type": "stream",
          "name": "stdout",
          "text": [
            "After adding 'orange': {'cherry', 'orange', 'apple', 'banana'}\n",
            "After removing 'banana': {'cherry', 'orange', 'apple'}\n"
          ]
        }
      ]
    },
    {
      "cell_type": "code",
      "source": [
        "# 3. Set Operations (Union)\n",
        "\n",
        "set_a = {1, 2, 3, 4}\n",
        "set_b = {3, 4, 5, 6}\n",
        "\n",
        "# The union() method returns a new set containing all items from both sets.\n",
        "set_c = set_a.union(set_b)\n",
        "print(f\"Union of A and B: {set_c}\")\n",
        "# Expected Output: {1, 2, 3, 4, 5, 6}"
      ],
      "metadata": {
        "id": "U4hvVN24IfkZ",
        "outputId": "2e37fa48-e338-49fc-cc60-f13652a3f2a6",
        "colab": {
          "base_uri": "https://localhost:8080/"
        }
      },
      "execution_count": 32,
      "outputs": [
        {
          "output_type": "stream",
          "name": "stdout",
          "text": [
            "Union of A and B: {1, 2, 3, 4, 5, 6}\n"
          ]
        }
      ]
    },
    {
      "cell_type": "markdown",
      "source": [
        "# Set\n",
        "Sets are used to store multiple items in a single variable.\n",
        "\n",
        "Sets are written with curly brackets."
      ],
      "metadata": {
        "id": "siU6lzgaXqnX"
      }
    },
    {
      "cell_type": "code",
      "source": [
        "# fruits = {\"apple\", \"banana\", \"cherry\"}\n",
        "\n",
        "# # add()\n",
        "\n",
        "# fruits.add(\"orange\")\n",
        "# print(fruits)\n",
        "\n",
        "# # pop()\n",
        "\n",
        "# fruits.pop()\n",
        "# print(fruits)\n",
        "\n",
        "# # remove()\n",
        "\n",
        "# fruits.remove(\"cherry\")\n",
        "# print(fruits)"
      ],
      "metadata": {
        "id": "lBkSujMxXn3a"
      },
      "execution_count": 33,
      "outputs": []
    },
    {
      "cell_type": "code",
      "source": [
        "type(fruits)"
      ],
      "metadata": {
        "colab": {
          "base_uri": "https://localhost:8080/"
        },
        "id": "ZTxBoPB2FMQg",
        "outputId": "0ae50b4d-c130-4ca8-e162-80cbe8f69c04"
      },
      "execution_count": 34,
      "outputs": [
        {
          "output_type": "execute_result",
          "data": {
            "text/plain": [
              "tuple"
            ]
          },
          "metadata": {},
          "execution_count": 34
        }
      ]
    },
    {
      "cell_type": "code",
      "source": [],
      "metadata": {
        "id": "Bvqj4hM-FMT7"
      },
      "execution_count": 34,
      "outputs": []
    },
    {
      "cell_type": "code",
      "source": [
        "fruits = {\"apple\", \"banana\", \"cherry\"}\n",
        "company = {\"google\", \"microsoft\", \"apple\"}\n",
        "\n",
        "# difference()\n",
        "\n",
        "print(company.difference(fruits))       # Output will be from LHS of dot set only"
      ],
      "metadata": {
        "colab": {
          "base_uri": "https://localhost:8080/"
        },
        "id": "EQiwdMbPXn5a",
        "outputId": "18442fe2-54a0-4aeb-b471-ebc767323034"
      },
      "execution_count": 35,
      "outputs": [
        {
          "output_type": "stream",
          "name": "stdout",
          "text": [
            "{'microsoft', 'google'}\n"
          ]
        }
      ]
    },
    {
      "cell_type": "code",
      "source": [
        "# intersection()\n",
        "\n",
        "print(company.intersection(fruits))      # Print common element from both the sets"
      ],
      "metadata": {
        "colab": {
          "base_uri": "https://localhost:8080/"
        },
        "id": "LfL5Uq5wXn9N",
        "outputId": "9996279a-2c97-46bb-88fe-eb44f9dd214c"
      },
      "execution_count": 36,
      "outputs": [
        {
          "output_type": "stream",
          "name": "stdout",
          "text": [
            "{'apple'}\n"
          ]
        }
      ]
    },
    {
      "cell_type": "code",
      "source": [
        "# union()\n",
        "\n",
        "print(company.union(fruits))        # Combine both sets together to form new set"
      ],
      "metadata": {
        "colab": {
          "base_uri": "https://localhost:8080/"
        },
        "id": "jq3zTuIZXoAa",
        "outputId": "01371941-2857-4318-a5c0-476548c80cbe"
      },
      "execution_count": 37,
      "outputs": [
        {
          "output_type": "stream",
          "name": "stdout",
          "text": [
            "{'google', 'apple', 'cherry', 'microsoft', 'banana'}\n"
          ]
        }
      ]
    },
    {
      "cell_type": "code",
      "source": [
        "# upate()\n",
        "\n",
        "company.update(fruits)"
      ],
      "metadata": {
        "id": "WJNBBW33XoCN"
      },
      "execution_count": 38,
      "outputs": []
    },
    {
      "cell_type": "code",
      "source": [
        "fruits"
      ],
      "metadata": {
        "id": "x9X5RfXZXoD5",
        "colab": {
          "base_uri": "https://localhost:8080/"
        },
        "outputId": "7281e9fe-8ebe-4b8a-8e48-9827ab9fbb20"
      },
      "execution_count": 39,
      "outputs": [
        {
          "output_type": "execute_result",
          "data": {
            "text/plain": [
              "{'apple', 'banana', 'cherry'}"
            ]
          },
          "metadata": {},
          "execution_count": 39
        }
      ]
    },
    {
      "cell_type": "code",
      "source": [
        "company"
      ],
      "metadata": {
        "id": "nKchQh8eXoFs",
        "colab": {
          "base_uri": "https://localhost:8080/"
        },
        "outputId": "e53fae2f-398b-4699-8af3-59166b82a917"
      },
      "execution_count": 40,
      "outputs": [
        {
          "output_type": "execute_result",
          "data": {
            "text/plain": [
              "{'apple', 'banana', 'cherry', 'google', 'microsoft'}"
            ]
          },
          "metadata": {},
          "execution_count": 40
        }
      ]
    },
    {
      "cell_type": "code",
      "source": [
        "# Create an Empty Set\n",
        "\n",
        "# Note: Using {} creates an empty DICTIONARY, not a set.\n",
        "empty_dict = {}\n",
        "print(f\"Type of {{}}: {type(empty_dict)}\")\n",
        "\n",
        "# Use the set() constructor to create an empty SET\n",
        "empty_set = set()\n",
        "print(f\"Type of set(): {type(empty_set)}\")"
      ],
      "metadata": {
        "id": "VXD70DC9Jd-R",
        "outputId": "c8692c26-e092-48c2-c4a2-5319addeceb2",
        "colab": {
          "base_uri": "https://localhost:8080/"
        }
      },
      "execution_count": 41,
      "outputs": [
        {
          "output_type": "stream",
          "name": "stdout",
          "text": [
            "Type of {}: <class 'dict'>\n",
            "Type of set(): <class 'set'>\n"
          ]
        }
      ]
    }
  ]
}